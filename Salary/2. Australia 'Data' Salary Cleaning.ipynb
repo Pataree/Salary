{
 "cells": [
  {
   "cell_type": "markdown",
   "metadata": {},
   "source": [
    "# Cleaning Data"
   ]
  },
  {
   "cell_type": "markdown",
   "metadata": {},
   "source": [
    "In this section\n",
    "* grab data from the csv that previously scrape from Seek\n",
    "* clean duplicate data\n",
    "* classify the location to be [ACT, NSW, NT, QLD, SA, TAS, VIC, WA]\n",
    "* create a new column to specify the salary range"
   ]
  },
  {
   "cell_type": "markdown",
   "metadata": {},
   "source": [
    "There are six states in Australia: New South Wales, Queensland, South Australia, Tasmania, Victoria and Western Australia.\n",
    "There are two Territories"
   ]
  },
  {
   "cell_type": "code",
   "execution_count": 1,
   "metadata": {},
   "outputs": [],
   "source": [
    "# import necessary packages\n",
    "import time\n",
    "import datetime as dt\n",
    "import pandas as pd\n",
    "import numpy as np\n",
    "\n",
    "# for plotting\n",
    "import matplotlib.pyplot as plt\n",
    "import matplotlib.dates as mdates\n",
    "from matplotlib import style\n",
    "import seaborn as sns\n",
    "\n",
    "style.use('ggplot')\n",
    "\n",
    "%matplotlib inline"
   ]
  },
  {
   "cell_type": "markdown",
   "metadata": {},
   "source": [
    "## Load data from CSV"
   ]
  },
  {
   "cell_type": "code",
   "execution_count": 2,
   "metadata": {},
   "outputs": [],
   "source": [
    "# import the data from csv"
   ]
  },
  {
   "cell_type": "code",
   "execution_count": 3,
   "metadata": {},
   "outputs": [],
   "source": [
    "sixty = pd.read_csv('./datasets/dataSixty.csv')\n",
    "eighty = pd.read_csv('./datasets/dataEighty.csv')\n",
    "hundred = pd.read_csv('./datasets/dataHundred.csv')\n",
    "onetwenty = pd.read_csv('./datasets/dataOnetwenty.csv')\n",
    "onefifty = pd.read_csv('./datasets/dataOnefifty.csv')\n",
    "twohundred = pd.read_csv('./datasets/dataTwohundred.csv')\n",
    "twofifty = pd.read_csv('./datasets/dataTwofifty.csv')"
   ]
  },
  {
   "cell_type": "code",
   "execution_count": 4,
   "metadata": {},
   "outputs": [
    {
     "data": {
      "text/html": [
       "<div>\n",
       "<style scoped>\n",
       "    .dataframe tbody tr th:only-of-type {\n",
       "        vertical-align: middle;\n",
       "    }\n",
       "\n",
       "    .dataframe tbody tr th {\n",
       "        vertical-align: top;\n",
       "    }\n",
       "\n",
       "    .dataframe thead th {\n",
       "        text-align: right;\n",
       "    }\n",
       "</style>\n",
       "<table border=\"1\" class=\"dataframe\">\n",
       "  <thead>\n",
       "    <tr style=\"text-align: right;\">\n",
       "      <th></th>\n",
       "      <th>Unnamed: 0</th>\n",
       "      <th>title</th>\n",
       "      <th>link</th>\n",
       "      <th>salary</th>\n",
       "      <th>location</th>\n",
       "      <th>company</th>\n",
       "      <th>classification</th>\n",
       "      <th>summary</th>\n",
       "    </tr>\n",
       "  </thead>\n",
       "  <tbody>\n",
       "    <tr>\n",
       "      <th>0</th>\n",
       "      <td>0</td>\n",
       "      <td>Category Data Assistant</td>\n",
       "      <td>/job/37426653?type=promoted</td>\n",
       "      <td>NaN</td>\n",
       "      <td>Melbourne</td>\n",
       "      <td>TerryWhite Chemmart</td>\n",
       "      <td>Administration &amp; Office Support</td>\n",
       "      <td>About Us TerryWhite Chemmart (TWCM) is Austral...</td>\n",
       "    </tr>\n",
       "    <tr>\n",
       "      <th>1</th>\n",
       "      <td>1</td>\n",
       "      <td>Data Administrator</td>\n",
       "      <td>/job/37381361?type=promoted</td>\n",
       "      <td>NaN</td>\n",
       "      <td>Sydney</td>\n",
       "      <td>Krunchbox Operations</td>\n",
       "      <td>Information &amp; Communication Technology</td>\n",
       "      <td>About the business and the role This could be...</td>\n",
       "    </tr>\n",
       "  </tbody>\n",
       "</table>\n",
       "</div>"
      ],
      "text/plain": [
       "   Unnamed: 0                    title                         link salary  \\\n",
       "0           0  Category Data Assistant  /job/37426653?type=promoted    NaN   \n",
       "1           1       Data Administrator  /job/37381361?type=promoted    NaN   \n",
       "\n",
       "    location               company                          classification  \\\n",
       "0  Melbourne   TerryWhite Chemmart         Administration & Office Support   \n",
       "1     Sydney  Krunchbox Operations  Information & Communication Technology   \n",
       "\n",
       "                                             summary  \n",
       "0  About Us TerryWhite Chemmart (TWCM) is Austral...  \n",
       "1   About the business and the role This could be...  "
      ]
     },
     "execution_count": 4,
     "metadata": {},
     "output_type": "execute_result"
    }
   ],
   "source": [
    "sixty.head(2)"
   ]
  },
  {
   "cell_type": "code",
   "execution_count": 5,
   "metadata": {},
   "outputs": [],
   "source": [
    "# all of them have ['Unnamed: 0'] columns, drop them all\n",
    "sixty.drop(columns = ['Unnamed: 0'], inplace=True)\n",
    "eighty.drop(columns = ['Unnamed: 0'], inplace=True)\n",
    "hundred.drop(columns = ['Unnamed: 0'], inplace=True)\n",
    "onetwenty.drop(columns = ['Unnamed: 0'], inplace=True)\n",
    "onefifty.drop(columns = ['Unnamed: 0'], inplace=True)\n",
    "twohundred.drop(columns = ['Unnamed: 0'], inplace=True)\n",
    "twofifty.drop(columns = ['Unnamed: 0'], inplace=True)"
   ]
  },
  {
   "cell_type": "markdown",
   "metadata": {},
   "source": [
    "## Examine data for data Cleaning "
   ]
  },
  {
   "cell_type": "code",
   "execution_count": 6,
   "metadata": {},
   "outputs": [
    {
     "data": {
      "text/html": [
       "<div>\n",
       "<style scoped>\n",
       "    .dataframe tbody tr th:only-of-type {\n",
       "        vertical-align: middle;\n",
       "    }\n",
       "\n",
       "    .dataframe tbody tr th {\n",
       "        vertical-align: top;\n",
       "    }\n",
       "\n",
       "    .dataframe thead th {\n",
       "        text-align: right;\n",
       "    }\n",
       "</style>\n",
       "<table border=\"1\" class=\"dataframe\">\n",
       "  <thead>\n",
       "    <tr style=\"text-align: right;\">\n",
       "      <th></th>\n",
       "      <th>title</th>\n",
       "      <th>link</th>\n",
       "      <th>salary</th>\n",
       "      <th>location</th>\n",
       "      <th>company</th>\n",
       "      <th>classification</th>\n",
       "      <th>summary</th>\n",
       "    </tr>\n",
       "  </thead>\n",
       "  <tbody>\n",
       "    <tr>\n",
       "      <th>0</th>\n",
       "      <td>Category Data Assistant</td>\n",
       "      <td>/job/37426653?type=promoted</td>\n",
       "      <td>NaN</td>\n",
       "      <td>Melbourne</td>\n",
       "      <td>TerryWhite Chemmart</td>\n",
       "      <td>Administration &amp; Office Support</td>\n",
       "      <td>About Us TerryWhite Chemmart (TWCM) is Austral...</td>\n",
       "    </tr>\n",
       "    <tr>\n",
       "      <th>1</th>\n",
       "      <td>Data Administrator</td>\n",
       "      <td>/job/37381361?type=promoted</td>\n",
       "      <td>NaN</td>\n",
       "      <td>Sydney</td>\n",
       "      <td>Krunchbox Operations</td>\n",
       "      <td>Information &amp; Communication Technology</td>\n",
       "      <td>About the business and the role This could be...</td>\n",
       "    </tr>\n",
       "    <tr>\n",
       "      <th>2</th>\n",
       "      <td>Data Entry</td>\n",
       "      <td>/job/37561354?type=standard</td>\n",
       "      <td>NaN</td>\n",
       "      <td>Perth</td>\n",
       "      <td>Page Personnel Office Support</td>\n",
       "      <td>Administration &amp; Office Support</td>\n",
       "      <td>Provide Data Entry support for a 4 week period...</td>\n",
       "    </tr>\n",
       "    <tr>\n",
       "      <th>3</th>\n",
       "      <td>Accounts Assistant / Data Entry</td>\n",
       "      <td>/job/37560786?type=standard</td>\n",
       "      <td>NaN</td>\n",
       "      <td>Perth</td>\n",
       "      <td>Perth Rad Clinic Limited</td>\n",
       "      <td>Administration &amp; Office Support</td>\n",
       "      <td>About Perth Radiological Clinic Perth Radiolog...</td>\n",
       "    </tr>\n",
       "    <tr>\n",
       "      <th>4</th>\n",
       "      <td>Admin /Data Entry</td>\n",
       "      <td>/job/37560693?type=standard</td>\n",
       "      <td>Up to $27.23 p.h. + Super</td>\n",
       "      <td>Wollongong, Illawarra &amp; South Coast</td>\n",
       "      <td>Veritas Recruitment</td>\n",
       "      <td>Administration &amp; Office Support</td>\n",
       "      <td>The Company  This market leading company requi...</td>\n",
       "    </tr>\n",
       "  </tbody>\n",
       "</table>\n",
       "</div>"
      ],
      "text/plain": [
       "                             title                         link  \\\n",
       "0          Category Data Assistant  /job/37426653?type=promoted   \n",
       "1               Data Administrator  /job/37381361?type=promoted   \n",
       "2                       Data Entry  /job/37561354?type=standard   \n",
       "3  Accounts Assistant / Data Entry  /job/37560786?type=standard   \n",
       "4                Admin /Data Entry  /job/37560693?type=standard   \n",
       "\n",
       "                      salary                             location  \\\n",
       "0                        NaN                            Melbourne   \n",
       "1                        NaN                               Sydney   \n",
       "2                        NaN                                Perth   \n",
       "3                        NaN                                Perth   \n",
       "4  Up to $27.23 p.h. + Super  Wollongong, Illawarra & South Coast   \n",
       "\n",
       "                         company                          classification  \\\n",
       "0            TerryWhite Chemmart         Administration & Office Support   \n",
       "1           Krunchbox Operations  Information & Communication Technology   \n",
       "2  Page Personnel Office Support         Administration & Office Support   \n",
       "3       Perth Rad Clinic Limited         Administration & Office Support   \n",
       "4            Veritas Recruitment         Administration & Office Support   \n",
       "\n",
       "                                             summary  \n",
       "0  About Us TerryWhite Chemmart (TWCM) is Austral...  \n",
       "1   About the business and the role This could be...  \n",
       "2  Provide Data Entry support for a 4 week period...  \n",
       "3  About Perth Radiological Clinic Perth Radiolog...  \n",
       "4  The Company  This market leading company requi...  "
      ]
     },
     "execution_count": 6,
     "metadata": {},
     "output_type": "execute_result"
    }
   ],
   "source": [
    "sixty.head()"
   ]
  },
  {
   "cell_type": "code",
   "execution_count": 7,
   "metadata": {},
   "outputs": [
    {
     "name": "stdout",
     "output_type": "stream",
     "text": [
      "sixty\n",
      " title                0\n",
      "link                 0\n",
      "salary            2922\n",
      "location             0\n",
      "company            214\n",
      "classification       0\n",
      "summary              0\n",
      "dtype: int64\n",
      "------------------------------------\n",
      "eighty\n",
      " title                0\n",
      "link                 0\n",
      "salary            2728\n",
      "location             0\n",
      "company            139\n",
      "classification       0\n",
      "summary              0\n",
      "dtype: int64\n",
      "------------------------------------\n",
      "hundred\n",
      " title                0\n",
      "link                 0\n",
      "salary            2703\n",
      "location             0\n",
      "company             87\n",
      "classification       0\n",
      "summary              2\n",
      "dtype: int64\n",
      "------------------------------------\n",
      "onetwenty\n",
      " title                0\n",
      "link                 0\n",
      "salary            2725\n",
      "location             0\n",
      "company             62\n",
      "classification       0\n",
      "summary              0\n",
      "dtype: int64\n",
      "------------------------------------\n",
      "onefifty\n",
      " title                0\n",
      "link                 0\n",
      "salary            2458\n",
      "location             0\n",
      "company             48\n",
      "classification       0\n",
      "summary              0\n",
      "dtype: int64\n",
      "------------------------------------\n",
      "twohundred\n",
      " title                0\n",
      "link                 0\n",
      "salary            1765\n",
      "location             0\n",
      "company             40\n",
      "classification       0\n",
      "summary              0\n",
      "dtype: int64\n",
      "------------------------------------\n",
      "twofifty\n",
      " title               0\n",
      "link                0\n",
      "salary            748\n",
      "location            0\n",
      "company            20\n",
      "classification      0\n",
      "summary             0\n",
      "dtype: int64\n"
     ]
    }
   ],
   "source": [
    "# checking null colunmns - found mainly salary and company.... \n",
    "# null we know roughly the bracket we put them in...... so I can fill it up with some median later\n",
    "# company are not really relevant...no need cleaning\n",
    "print ('sixty\\n', sixty.isnull().sum())\n",
    "print ('------------------------------------')\n",
    "print ('eighty\\n', eighty.isnull().sum())\n",
    "print ('------------------------------------')\n",
    "print ('hundred\\n', hundred.isnull().sum())\n",
    "print ('------------------------------------')\n",
    "print ('onetwenty\\n', onetwenty.isnull().sum())\n",
    "print ('------------------------------------')\n",
    "print ('onefifty\\n', onefifty.isnull().sum())\n",
    "print ('------------------------------------')\n",
    "print ('twohundred\\n', twohundred.isnull().sum())\n",
    "print ('------------------------------------')\n",
    "print ('twofifty\\n', twofifty.isnull().sum())"
   ]
  },
  {
   "cell_type": "code",
   "execution_count": 8,
   "metadata": {},
   "outputs": [
    {
     "name": "stdout",
     "output_type": "stream",
     "text": [
      "sixty  63\n",
      "eighty  58\n",
      "hundred  57\n",
      "onetwenty  59\n",
      "onefifty  47\n",
      "twohundred  31\n",
      "twofifty  25\n"
     ]
    }
   ],
   "source": [
    "# Since in the Sixty has the highest number, we will use those locations information to classified them\n",
    "print ('sixty ', sixty.location.nunique())\n",
    "print ('eighty ', eighty.location.nunique())\n",
    "print ('hundred ', hundred.location.nunique())\n",
    "print ('onetwenty ', onetwenty.location.nunique())\n",
    "print ('onefifty ', onefifty.location.nunique())\n",
    "print ('twohundred ', twohundred.location.nunique())\n",
    "print ('twofifty ', twofifty.location.nunique())"
   ]
  },
  {
   "cell_type": "code",
   "execution_count": 9,
   "metadata": {},
   "outputs": [
    {
     "name": "stdout",
     "output_type": "stream",
     "text": [
      "sixty  29\n",
      "eighty  28\n",
      "hundred  29\n",
      "onetwenty  29\n",
      "onefifty  29\n",
      "twohundred  28\n",
      "twofifty  24\n"
     ]
    },
    {
     "data": {
      "text/plain": [
       "array(['Administration & Office Support',\n",
       "       'Information & Communication Technology',\n",
       "       'Manufacturing, Transport & Logistics', 'Accounting',\n",
       "       'Healthcare & Medical', 'Advertising, Arts & Media',\n",
       "       'Trades & Services', 'Retail & Consumer Products',\n",
       "       'Education & Training', 'Insurance & Superannuation',\n",
       "       'Mining, Resources & Energy', 'Engineering',\n",
       "       'Government & Defence', 'Sales', 'Construction',\n",
       "       'Science & Technology', 'Banking & Financial Services',\n",
       "       'Call Centre & Customer Service', 'Marketing & Communications',\n",
       "       'Community Services & Development',\n",
       "       'Farming, Animals & Conservation', 'Consulting & Strategy',\n",
       "       'Human Resources & Recruitment', 'Real Estate & Property', 'Legal',\n",
       "       'Design & Architecture', 'Hospitality & Tourism',\n",
       "       'CEO & General Management', 'Sport & Recreation'], dtype=object)"
      ]
     },
     "execution_count": 9,
     "metadata": {},
     "output_type": "execute_result"
    }
   ],
   "source": [
    "# max classificatin is 29 and are already unique... so nothing to do there\n",
    "print ('sixty ', sixty.classification.nunique())\n",
    "print ('eighty ', eighty.classification.nunique())\n",
    "print ('hundred ', hundred.classification.nunique())\n",
    "print ('onetwenty ', onetwenty.classification.nunique())\n",
    "print ('onefifty ', onefifty.classification.nunique())\n",
    "print ('twohundred ', twohundred.classification.nunique())\n",
    "print ('twofifty ', twofifty.classification.nunique())\n",
    "sixty.classification.unique()"
   ]
  },
  {
   "cell_type": "markdown",
   "metadata": {},
   "source": [
    "1. Salary are in different format and contains null values but we know which brackets they are in\n",
    "2. Notice that the Location are not based on States or Territories, we will need to convert them\n",
    "3. Summary - Some advertisement posted multiple times"
   ]
  },
  {
   "cell_type": "markdown",
   "metadata": {},
   "source": [
    "###  Data Manipulation and Cleaning\n",
    "    1. Drop duplicates based on summary"
   ]
  },
  {
   "cell_type": "code",
   "execution_count": 10,
   "metadata": {},
   "outputs": [
    {
     "data": {
      "text/plain": [
       "(406, 7)"
      ]
     },
     "execution_count": 10,
     "metadata": {},
     "output_type": "execute_result"
    }
   ],
   "source": [
    "# shows number of duplicates\n",
    "sixty[sixty.duplicated(['summary'], keep='first')].shape"
   ]
  },
  {
   "cell_type": "code",
   "execution_count": 11,
   "metadata": {},
   "outputs": [
    {
     "data": {
      "text/plain": [
       "(3614, 7)"
      ]
     },
     "execution_count": 11,
     "metadata": {},
     "output_type": "execute_result"
    }
   ],
   "source": [
    "# drop all duplicates except first one and show shapes\n",
    "sixty.drop_duplicates(subset=['summary'], inplace=True)\n",
    "sixty.shape"
   ]
  },
  {
   "cell_type": "code",
   "execution_count": 12,
   "metadata": {},
   "outputs": [
    {
     "data": {
      "text/plain": [
       "(516, 7)"
      ]
     },
     "execution_count": 12,
     "metadata": {},
     "output_type": "execute_result"
    }
   ],
   "source": [
    "# shows number of duplicates\n",
    "eighty[eighty.duplicated(['summary'], keep='first')].shape"
   ]
  },
  {
   "cell_type": "code",
   "execution_count": 13,
   "metadata": {},
   "outputs": [
    {
     "data": {
      "text/plain": [
       "(3540, 7)"
      ]
     },
     "execution_count": 13,
     "metadata": {},
     "output_type": "execute_result"
    }
   ],
   "source": [
    "# drop all duplicates except first one and show shapes\n",
    "eighty.drop_duplicates(subset=['summary'], inplace=True)\n",
    "eighty.shape"
   ]
  },
  {
   "cell_type": "code",
   "execution_count": 14,
   "metadata": {},
   "outputs": [
    {
     "data": {
      "text/plain": [
       "(703, 7)"
      ]
     },
     "execution_count": 14,
     "metadata": {},
     "output_type": "execute_result"
    }
   ],
   "source": [
    "# shows number of duplicates\n",
    "hundred[hundred.duplicated(['summary'], keep='first')].shape"
   ]
  },
  {
   "cell_type": "code",
   "execution_count": 15,
   "metadata": {},
   "outputs": [
    {
     "data": {
      "text/plain": [
       "(3333, 7)"
      ]
     },
     "execution_count": 15,
     "metadata": {},
     "output_type": "execute_result"
    }
   ],
   "source": [
    "# drop all duplicates except first one and show shapes\n",
    "hundred.drop_duplicates(subset=['summary'], inplace=True)\n",
    "hundred.shape"
   ]
  },
  {
   "cell_type": "code",
   "execution_count": 16,
   "metadata": {},
   "outputs": [
    {
     "data": {
      "text/plain": [
       "(684, 7)"
      ]
     },
     "execution_count": 16,
     "metadata": {},
     "output_type": "execute_result"
    }
   ],
   "source": [
    "# shows number of duplicates\n",
    "onetwenty[onetwenty.duplicated(['summary'], keep='first')].shape"
   ]
  },
  {
   "cell_type": "code",
   "execution_count": 17,
   "metadata": {},
   "outputs": [
    {
     "data": {
      "text/plain": [
       "(3346, 7)"
      ]
     },
     "execution_count": 17,
     "metadata": {},
     "output_type": "execute_result"
    }
   ],
   "source": [
    "# drop all duplicates except first one and show shapes\n",
    "onetwenty.drop_duplicates(subset=['summary'], inplace=True)\n",
    "onetwenty.shape"
   ]
  },
  {
   "cell_type": "code",
   "execution_count": 18,
   "metadata": {},
   "outputs": [
    {
     "data": {
      "text/plain": [
       "(671, 7)"
      ]
     },
     "execution_count": 18,
     "metadata": {},
     "output_type": "execute_result"
    }
   ],
   "source": [
    "# shows number of duplicates\n",
    "onefifty[onefifty.duplicated(['summary'], keep='first')].shape"
   ]
  },
  {
   "cell_type": "code",
   "execution_count": 19,
   "metadata": {},
   "outputs": [
    {
     "data": {
      "text/plain": [
       "(3041, 7)"
      ]
     },
     "execution_count": 19,
     "metadata": {},
     "output_type": "execute_result"
    }
   ],
   "source": [
    "# drop all duplicates except first one and show shapes\n",
    "onefifty.drop_duplicates(subset=['summary'], inplace=True)\n",
    "onefifty.shape"
   ]
  },
  {
   "cell_type": "code",
   "execution_count": 20,
   "metadata": {},
   "outputs": [
    {
     "data": {
      "text/plain": [
       "(448, 7)"
      ]
     },
     "execution_count": 20,
     "metadata": {},
     "output_type": "execute_result"
    }
   ],
   "source": [
    "# shows number of duplicates\n",
    "twohundred[twohundred.duplicated(['summary'], keep='first')].shape"
   ]
  },
  {
   "cell_type": "code",
   "execution_count": 21,
   "metadata": {},
   "outputs": [
    {
     "data": {
      "text/plain": [
       "(2228, 7)"
      ]
     },
     "execution_count": 21,
     "metadata": {},
     "output_type": "execute_result"
    }
   ],
   "source": [
    "# drop all duplicates except first one and show shapes\n",
    "twohundred.drop_duplicates(subset=['summary'], inplace=True)\n",
    "twohundred.shape"
   ]
  },
  {
   "cell_type": "code",
   "execution_count": 22,
   "metadata": {},
   "outputs": [
    {
     "data": {
      "text/plain": [
       "(149, 7)"
      ]
     },
     "execution_count": 22,
     "metadata": {},
     "output_type": "execute_result"
    }
   ],
   "source": [
    "# shows number of duplicates\n",
    "twofifty[twofifty.duplicated(['summary'], keep='first')].shape"
   ]
  },
  {
   "cell_type": "code",
   "execution_count": 23,
   "metadata": {},
   "outputs": [
    {
     "data": {
      "text/plain": [
       "(1055, 7)"
      ]
     },
     "execution_count": 23,
     "metadata": {},
     "output_type": "execute_result"
    }
   ],
   "source": [
    "# drop all duplicates except first one and show shapes\n",
    "twofifty.drop_duplicates(subset=['summary'], inplace=True)\n",
    "twofifty.shape"
   ]
  },
  {
   "cell_type": "code",
   "execution_count": null,
   "metadata": {},
   "outputs": [],
   "source": []
  },
  {
   "cell_type": "markdown",
   "metadata": {},
   "source": [
    "###  Data Manipulation and Cleaning\n",
    "    2. Modify the locations to make it into the correct States and Territories\n",
    "    \n",
    "    Steps\n",
    "    * Using Sixty to show 63 different locations list and put them into the correct grouping\n",
    "    * Create function to use\n",
    "    * Apply it to each DF and Save it to new Columns\n",
    "    # Remove all those that are overseas ads"
   ]
  },
  {
   "cell_type": "code",
   "execution_count": 24,
   "metadata": {},
   "outputs": [
    {
     "data": {
      "text/plain": [
       "array(['Melbourne', 'Sydney', 'Perth',\n",
       "       'Wollongong, Illawarra & South Coast', 'Brisbane', 'Gold Coast',\n",
       "       'Lismore & Far North Coast', 'Western QLD',\n",
       "       'Yarra Valley & High Country', 'Hobart',\n",
       "       'Tamworth & North West NSW', 'Gladstone & Central QLD', 'Adelaide',\n",
       "       'South West Coast VIC', 'ACT', 'Sunshine Coast', 'Albury Area',\n",
       "       'Newcastle, Maitland & Hunter', 'Dubbo & Central NSW',\n",
       "       'Launceston & North East', 'Cairns & Far North', 'Darwin',\n",
       "       'Riverland & Murray Mallee', 'Mackay & Coalfields',\n",
       "       'Bairnsdale & Gippsland', 'Ballarat & Central Highlands',\n",
       "       'Rockhampton & Capricorn Coast', 'Northern QLD',\n",
       "       'Bunbury & South West', 'Port Macquarie & Mid North Coast',\n",
       "       'Coffs Harbour & North Coast', 'Tumut, Snowy & Monaro',\n",
       "       'Coober Pedy & Outback SA', 'Hervey Bay & Fraser Coast',\n",
       "       'Mildura & Murray', 'Wagga Wagga & Riverina',\n",
       "       'Toowoomba & Darling Downs', 'Katherine & Northern Australia',\n",
       "       'Southern Highlands & Tablelands',\n",
       "       'Bendigo, Goldfields & Macedon Ranges', 'Broome & Kimberley',\n",
       "       'Fleurieu Peninsula & Kangaroo Island',\n",
       "       'Blue Mountains & Central West', 'Devonport & North West',\n",
       "       'Gosford & Central Coast', 'Central & South East TAS',\n",
       "       'Adelaide Hills & Barossa', 'Northam & Wheatbelt',\n",
       "       'Kalgoorlie, Goldfields & Esperance',\n",
       "       'Port Hedland, Karratha & Pilbara', 'Whyalla & Eyre Peninsula',\n",
       "       'Shepparton & Goulburn Valley', 'Geraldton, Gascoyne & Midwest',\n",
       "       'West Gippsland & Latrobe Valley',\n",
       "       'Mornington Peninsula & Bass Coast',\n",
       "       'Alice Springs & Central Australia',\n",
       "       'Bundaberg & Wide Bay Burnett', 'Yorke Peninsula & Clare Valley',\n",
       "       'Albany & Great Southern', 'Richmond & Hawkesbury',\n",
       "       'Horsham & Grampians', 'Somerset & Lockyer', 'Mandurah & Peel'],\n",
       "      dtype=object)"
      ]
     },
     "execution_count": 24,
     "metadata": {},
     "output_type": "execute_result"
    }
   ],
   "source": [
    "# find unique locations, classified them in to the correct States\n",
    "location_list = sixty.location.unique()\n",
    "location_list"
   ]
  },
  {
   "cell_type": "code",
   "execution_count": 25,
   "metadata": {},
   "outputs": [],
   "source": [
    "ACT = ['ACT']\n",
    "\n",
    "NSW =['NSW', 'Sydney', 'Albury Area', 'Blue Mountains & Central West', 'Coffs Harbour & North Coast', \n",
    "      'Gosford & Central Coast', 'Lismore & Far North Coast', 'Newcastle, Maitland & Hunter',\n",
    "       'Port Macquarie & Mid North Coast', 'Richmond & Hawkesbury', 'Southern Highlands & Tablelands',\n",
    "       'Tumut, Snowy & Monaro', 'Wagga Wagga & Riverina','Wollongong, Illawarra & South Coast']\n",
    "\n",
    "NT = ['NT', 'Darwin', 'Alice Springs & Central Australia']\n",
    "\n",
    "QLD = ['QLD', 'Brisbane', 'Bundaberg & Wide Bay Burnett', 'Cairns & Far North', 'Gold Coast', \n",
    "       'Hervey Bay & Fraser Coast', 'Katherine & Northern Australia', 'Mackay & Coalfields', \n",
    "       'Rockhampton & Capricorn Coast', 'Somerset & Lockyer', 'Sunshine Coast', 'Toowoomba & Darling Downs']\n",
    "\n",
    "SA = ['SA', 'Adelaide', 'Adelaide Hills & Barossa', 'Fleurieu Peninsula & Kangaroo Island',\n",
    "      'Mt Gambier & Limestone Coast', 'Riverland & Murray Mallee', \n",
    "      'Whyalla & Eyre Peninsula', 'Yorke Peninsula & Clare Valley']\n",
    "\n",
    "TAS = ['TAS', 'Hobart', 'Devonport & North West', 'Launceston & North East']\n",
    "\n",
    "VIC = ['VIC', 'Melbourne', 'Bairnsdale & Gippsland', 'Ballarat & Central Highlands',\n",
    "       'Bendigo, Goldfields & Macedon Ranges', 'Horsham & Grampians','Mornington Peninsula & Bass Coast',\n",
    "       'Shepparton & Goulburn Valley', 'West Gippsland & Latrobe Valley', 'Yarra Valley & High Country']\n",
    "\n",
    "WA = ['WA', 'Perth', 'Albany & Great Southern', 'Bairnsdale & Gippsland', 'Bendigo, Goldfields & Macedon Ranges', \n",
    "      'Broome & Kimberley', 'Bunbury & South West', 'Kalgoorlie, Goldfields & Esperance','Geraldton, Gascoyne & Midwest', \n",
    "      'Mandurah & Peel', 'Mildura & Murray', 'Northam & Wheatbelt', 'Port Hedland, Karratha & Pilbara']"
   ]
  },
  {
   "cell_type": "code",
   "execution_count": 26,
   "metadata": {},
   "outputs": [],
   "source": [
    "def get_location_states(location):\n",
    "    \n",
    "    if len(location) <= 3:\n",
    "        #Already in the correct States or Territories\n",
    "        return location\n",
    "    \n",
    "    #check if the data has the states inside, get the last 3 letters and remove space\n",
    "    loc = location[-3:].strip()\n",
    "    \n",
    "    if loc.isupper():\n",
    "        # return the states if all 3 or 2 letters are upper case\n",
    "        return loc\n",
    "    \n",
    "    if location in NSW:\n",
    "        return 'NSW'\n",
    "    \n",
    "    if location in VIC:\n",
    "        return 'VIC'\n",
    "    \n",
    "    if location in QLD:\n",
    "        return 'QLD'\n",
    "    \n",
    "    if location in WA:\n",
    "        return 'WA'\n",
    "    \n",
    "    if location in SA:\n",
    "        return 'SA'\n",
    "    \n",
    "    if location in TAS:\n",
    "        return 'TAS'\n",
    "    \n",
    "    if location in NT:\n",
    "        return 'NT'\n",
    " \n",
    "    print (location)\n",
    "    return 'NA'\n"
   ]
  },
  {
   "cell_type": "code",
   "execution_count": 27,
   "metadata": {},
   "outputs": [
    {
     "name": "stdout",
     "output_type": "stream",
     "text": [
      "['VIC' 'NSW' 'WA' 'QLD' 'TAS' 'SA' 'ACT' 'NT']\n"
     ]
    },
    {
     "data": {
      "text/html": [
       "<div>\n",
       "<style scoped>\n",
       "    .dataframe tbody tr th:only-of-type {\n",
       "        vertical-align: middle;\n",
       "    }\n",
       "\n",
       "    .dataframe tbody tr th {\n",
       "        vertical-align: top;\n",
       "    }\n",
       "\n",
       "    .dataframe thead th {\n",
       "        text-align: right;\n",
       "    }\n",
       "</style>\n",
       "<table border=\"1\" class=\"dataframe\">\n",
       "  <thead>\n",
       "    <tr style=\"text-align: right;\">\n",
       "      <th></th>\n",
       "      <th>title</th>\n",
       "      <th>link</th>\n",
       "      <th>salary</th>\n",
       "      <th>location</th>\n",
       "      <th>company</th>\n",
       "      <th>classification</th>\n",
       "      <th>summary</th>\n",
       "      <th>state</th>\n",
       "    </tr>\n",
       "  </thead>\n",
       "  <tbody>\n",
       "    <tr>\n",
       "      <th>0</th>\n",
       "      <td>Category Data Assistant</td>\n",
       "      <td>/job/37426653?type=promoted</td>\n",
       "      <td>NaN</td>\n",
       "      <td>Melbourne</td>\n",
       "      <td>TerryWhite Chemmart</td>\n",
       "      <td>Administration &amp; Office Support</td>\n",
       "      <td>About Us TerryWhite Chemmart (TWCM) is Austral...</td>\n",
       "      <td>VIC</td>\n",
       "    </tr>\n",
       "    <tr>\n",
       "      <th>1</th>\n",
       "      <td>Data Administrator</td>\n",
       "      <td>/job/37381361?type=promoted</td>\n",
       "      <td>NaN</td>\n",
       "      <td>Sydney</td>\n",
       "      <td>Krunchbox Operations</td>\n",
       "      <td>Information &amp; Communication Technology</td>\n",
       "      <td>About the business and the role This could be...</td>\n",
       "      <td>NSW</td>\n",
       "    </tr>\n",
       "  </tbody>\n",
       "</table>\n",
       "</div>"
      ],
      "text/plain": [
       "                     title                         link salary   location  \\\n",
       "0  Category Data Assistant  /job/37426653?type=promoted    NaN  Melbourne   \n",
       "1       Data Administrator  /job/37381361?type=promoted    NaN     Sydney   \n",
       "\n",
       "                company                          classification  \\\n",
       "0   TerryWhite Chemmart         Administration & Office Support   \n",
       "1  Krunchbox Operations  Information & Communication Technology   \n",
       "\n",
       "                                             summary state  \n",
       "0  About Us TerryWhite Chemmart (TWCM) is Austral...   VIC  \n",
       "1   About the business and the role This could be...   NSW  "
      ]
     },
     "execution_count": 27,
     "metadata": {},
     "output_type": "execute_result"
    }
   ],
   "source": [
    "sixty['state'] = sixty['location'].apply(get_location_states)\n",
    "print(sixty['state'].unique())\n",
    "sixty.head(2)"
   ]
  },
  {
   "cell_type": "code",
   "execution_count": 28,
   "metadata": {},
   "outputs": [
    {
     "name": "stdout",
     "output_type": "stream",
     "text": [
      "Ireland\n",
      "['NSW' 'VIC' 'QLD' 'WA' 'ACT' 'SA' 'TAS' 'NT' 'NA']\n"
     ]
    },
    {
     "data": {
      "text/html": [
       "<div>\n",
       "<style scoped>\n",
       "    .dataframe tbody tr th:only-of-type {\n",
       "        vertical-align: middle;\n",
       "    }\n",
       "\n",
       "    .dataframe tbody tr th {\n",
       "        vertical-align: top;\n",
       "    }\n",
       "\n",
       "    .dataframe thead th {\n",
       "        text-align: right;\n",
       "    }\n",
       "</style>\n",
       "<table border=\"1\" class=\"dataframe\">\n",
       "  <thead>\n",
       "    <tr style=\"text-align: right;\">\n",
       "      <th></th>\n",
       "      <th>title</th>\n",
       "      <th>link</th>\n",
       "      <th>salary</th>\n",
       "      <th>location</th>\n",
       "      <th>company</th>\n",
       "      <th>classification</th>\n",
       "      <th>summary</th>\n",
       "      <th>state</th>\n",
       "    </tr>\n",
       "  </thead>\n",
       "  <tbody>\n",
       "    <tr>\n",
       "      <th>0</th>\n",
       "      <td>Electrician / Data Cabler</td>\n",
       "      <td>/job/37555358?type=promoted</td>\n",
       "      <td>$60,000 - $79,999</td>\n",
       "      <td>Sydney</td>\n",
       "      <td>AMR Security</td>\n",
       "      <td>Trades &amp; Services</td>\n",
       "      <td>About the roleWe are looking for an Electricia...</td>\n",
       "      <td>NSW</td>\n",
       "    </tr>\n",
       "    <tr>\n",
       "      <th>1</th>\n",
       "      <td>Shift Technician - Electrical (Data Centre)</td>\n",
       "      <td>/job/37326042?type=promoted</td>\n",
       "      <td>NaN</td>\n",
       "      <td>Sydney</td>\n",
       "      <td>BGIS</td>\n",
       "      <td>Trades &amp; Services</td>\n",
       "      <td>BGIS, a Brookfield Company, is a leading provi...</td>\n",
       "      <td>NSW</td>\n",
       "    </tr>\n",
       "  </tbody>\n",
       "</table>\n",
       "</div>"
      ],
      "text/plain": [
       "                                         title                         link  \\\n",
       "0                    Electrician / Data Cabler  /job/37555358?type=promoted   \n",
       "1  Shift Technician - Electrical (Data Centre)  /job/37326042?type=promoted   \n",
       "\n",
       "              salary location       company     classification  \\\n",
       "0  $60,000 - $79,999   Sydney  AMR Security  Trades & Services   \n",
       "1                NaN   Sydney          BGIS  Trades & Services   \n",
       "\n",
       "                                             summary state  \n",
       "0  About the roleWe are looking for an Electricia...   NSW  \n",
       "1  BGIS, a Brookfield Company, is a leading provi...   NSW  "
      ]
     },
     "execution_count": 28,
     "metadata": {},
     "output_type": "execute_result"
    }
   ],
   "source": [
    "eighty['state'] = eighty['location'].apply(get_location_states)\n",
    "print(eighty['state'].unique())\n",
    "eighty.head(2)"
   ]
  },
  {
   "cell_type": "code",
   "execution_count": 29,
   "metadata": {},
   "outputs": [
    {
     "name": "stdout",
     "output_type": "stream",
     "text": [
      "Ireland\n",
      "['NSW' 'VIC' 'WA' 'QLD' 'ACT' 'NT' 'SA' 'TAS' 'NA']\n"
     ]
    },
    {
     "data": {
      "text/html": [
       "<div>\n",
       "<style scoped>\n",
       "    .dataframe tbody tr th:only-of-type {\n",
       "        vertical-align: middle;\n",
       "    }\n",
       "\n",
       "    .dataframe tbody tr th {\n",
       "        vertical-align: top;\n",
       "    }\n",
       "\n",
       "    .dataframe thead th {\n",
       "        text-align: right;\n",
       "    }\n",
       "</style>\n",
       "<table border=\"1\" class=\"dataframe\">\n",
       "  <thead>\n",
       "    <tr style=\"text-align: right;\">\n",
       "      <th></th>\n",
       "      <th>title</th>\n",
       "      <th>link</th>\n",
       "      <th>salary</th>\n",
       "      <th>location</th>\n",
       "      <th>company</th>\n",
       "      <th>classification</th>\n",
       "      <th>summary</th>\n",
       "      <th>state</th>\n",
       "    </tr>\n",
       "  </thead>\n",
       "  <tbody>\n",
       "    <tr>\n",
       "      <th>0</th>\n",
       "      <td>Shift Technician - Electrical (Data Centre)</td>\n",
       "      <td>/job/37326042?type=promoted</td>\n",
       "      <td>NaN</td>\n",
       "      <td>Sydney</td>\n",
       "      <td>BGIS</td>\n",
       "      <td>Trades &amp; Services</td>\n",
       "      <td>BGIS, a Brookfield Company, is a leading provi...</td>\n",
       "      <td>NSW</td>\n",
       "    </tr>\n",
       "    <tr>\n",
       "      <th>1</th>\n",
       "      <td>Enterprise Data &amp; Reporting Lead</td>\n",
       "      <td>/job/37393509?type=promoted</td>\n",
       "      <td>Base + Super + Profit Share</td>\n",
       "      <td>Melbourne</td>\n",
       "      <td>SEEK Limited</td>\n",
       "      <td>Information &amp; Communication Technology</td>\n",
       "      <td>About SEEK SEEK is the global leader in the cr...</td>\n",
       "      <td>VIC</td>\n",
       "    </tr>\n",
       "  </tbody>\n",
       "</table>\n",
       "</div>"
      ],
      "text/plain": [
       "                                         title                         link  \\\n",
       "0  Shift Technician - Electrical (Data Centre)  /job/37326042?type=promoted   \n",
       "1             Enterprise Data & Reporting Lead  /job/37393509?type=promoted   \n",
       "\n",
       "                        salary   location       company  \\\n",
       "0                          NaN     Sydney          BGIS   \n",
       "1  Base + Super + Profit Share  Melbourne  SEEK Limited   \n",
       "\n",
       "                           classification  \\\n",
       "0                       Trades & Services   \n",
       "1  Information & Communication Technology   \n",
       "\n",
       "                                             summary state  \n",
       "0  BGIS, a Brookfield Company, is a leading provi...   NSW  \n",
       "1  About SEEK SEEK is the global leader in the cr...   VIC  "
      ]
     },
     "execution_count": 29,
     "metadata": {},
     "output_type": "execute_result"
    }
   ],
   "source": [
    "hundred['state'] = hundred['location'].apply(get_location_states)\n",
    "print(hundred['state'].unique())\n",
    "hundred.head(2)"
   ]
  },
  {
   "cell_type": "code",
   "execution_count": 30,
   "metadata": {},
   "outputs": [
    {
     "data": {
      "text/html": [
       "<div>\n",
       "<style scoped>\n",
       "    .dataframe tbody tr th:only-of-type {\n",
       "        vertical-align: middle;\n",
       "    }\n",
       "\n",
       "    .dataframe tbody tr th {\n",
       "        vertical-align: top;\n",
       "    }\n",
       "\n",
       "    .dataframe thead th {\n",
       "        text-align: right;\n",
       "    }\n",
       "</style>\n",
       "<table border=\"1\" class=\"dataframe\">\n",
       "  <thead>\n",
       "    <tr style=\"text-align: right;\">\n",
       "      <th></th>\n",
       "      <th>title</th>\n",
       "      <th>link</th>\n",
       "      <th>salary</th>\n",
       "      <th>location</th>\n",
       "      <th>company</th>\n",
       "      <th>classification</th>\n",
       "      <th>summary</th>\n",
       "      <th>state</th>\n",
       "    </tr>\n",
       "  </thead>\n",
       "  <tbody>\n",
       "    <tr>\n",
       "      <th>2128</th>\n",
       "      <td>Design Engineer</td>\n",
       "      <td>/job/37426942?type=promoted</td>\n",
       "      <td>NaN</td>\n",
       "      <td>Ireland</td>\n",
       "      <td>PM Group</td>\n",
       "      <td>Engineering</td>\n",
       "      <td>We are currently looking to recruit an experie...</td>\n",
       "      <td>NA</td>\n",
       "    </tr>\n",
       "  </tbody>\n",
       "</table>\n",
       "</div>"
      ],
      "text/plain": [
       "                title                         link salary location   company  \\\n",
       "2128  Design Engineer  /job/37426942?type=promoted    NaN  Ireland  PM Group   \n",
       "\n",
       "     classification                                            summary state  \n",
       "2128    Engineering  We are currently looking to recruit an experie...    NA  "
      ]
     },
     "execution_count": 30,
     "metadata": {},
     "output_type": "execute_result"
    }
   ],
   "source": [
    "hundred[hundred['state'] == 'NA']"
   ]
  },
  {
   "cell_type": "code",
   "execution_count": 31,
   "metadata": {},
   "outputs": [
    {
     "name": "stdout",
     "output_type": "stream",
     "text": [
      "Ireland\n",
      "['NSW' 'VIC' 'WA' 'QLD' 'ACT' 'SA' 'NA' 'TAS' 'NT']\n"
     ]
    },
    {
     "data": {
      "text/html": [
       "<div>\n",
       "<style scoped>\n",
       "    .dataframe tbody tr th:only-of-type {\n",
       "        vertical-align: middle;\n",
       "    }\n",
       "\n",
       "    .dataframe tbody tr th {\n",
       "        vertical-align: top;\n",
       "    }\n",
       "\n",
       "    .dataframe thead th {\n",
       "        text-align: right;\n",
       "    }\n",
       "</style>\n",
       "<table border=\"1\" class=\"dataframe\">\n",
       "  <thead>\n",
       "    <tr style=\"text-align: right;\">\n",
       "      <th></th>\n",
       "      <th>title</th>\n",
       "      <th>link</th>\n",
       "      <th>salary</th>\n",
       "      <th>location</th>\n",
       "      <th>company</th>\n",
       "      <th>classification</th>\n",
       "      <th>summary</th>\n",
       "      <th>state</th>\n",
       "    </tr>\n",
       "  </thead>\n",
       "  <tbody>\n",
       "    <tr>\n",
       "      <th>0</th>\n",
       "      <td>Shift Technician - Electrical (Data Centre)</td>\n",
       "      <td>/job/37326042?type=promoted</td>\n",
       "      <td>NaN</td>\n",
       "      <td>Sydney</td>\n",
       "      <td>BGIS</td>\n",
       "      <td>Trades &amp; Services</td>\n",
       "      <td>BGIS, a Brookfield Company, is a leading provi...</td>\n",
       "      <td>NSW</td>\n",
       "    </tr>\n",
       "    <tr>\n",
       "      <th>1</th>\n",
       "      <td>Enterprise Data &amp; Reporting Lead</td>\n",
       "      <td>/job/37393509?type=promoted</td>\n",
       "      <td>Base + Super + Profit Share</td>\n",
       "      <td>Melbourne</td>\n",
       "      <td>SEEK Limited</td>\n",
       "      <td>Information &amp; Communication Technology</td>\n",
       "      <td>About SEEK SEEK is the global leader in the cr...</td>\n",
       "      <td>VIC</td>\n",
       "    </tr>\n",
       "  </tbody>\n",
       "</table>\n",
       "</div>"
      ],
      "text/plain": [
       "                                         title                         link  \\\n",
       "0  Shift Technician - Electrical (Data Centre)  /job/37326042?type=promoted   \n",
       "1             Enterprise Data & Reporting Lead  /job/37393509?type=promoted   \n",
       "\n",
       "                        salary   location       company  \\\n",
       "0                          NaN     Sydney          BGIS   \n",
       "1  Base + Super + Profit Share  Melbourne  SEEK Limited   \n",
       "\n",
       "                           classification  \\\n",
       "0                       Trades & Services   \n",
       "1  Information & Communication Technology   \n",
       "\n",
       "                                             summary state  \n",
       "0  BGIS, a Brookfield Company, is a leading provi...   NSW  \n",
       "1  About SEEK SEEK is the global leader in the cr...   VIC  "
      ]
     },
     "execution_count": 31,
     "metadata": {},
     "output_type": "execute_result"
    }
   ],
   "source": [
    "onetwenty['state'] = onetwenty['location'].apply(get_location_states)\n",
    "print(onetwenty['state'].unique())\n",
    "onetwenty.head(2)"
   ]
  },
  {
   "cell_type": "code",
   "execution_count": 32,
   "metadata": {},
   "outputs": [
    {
     "data": {
      "text/html": [
       "<div>\n",
       "<style scoped>\n",
       "    .dataframe tbody tr th:only-of-type {\n",
       "        vertical-align: middle;\n",
       "    }\n",
       "\n",
       "    .dataframe tbody tr th {\n",
       "        vertical-align: top;\n",
       "    }\n",
       "\n",
       "    .dataframe thead th {\n",
       "        text-align: right;\n",
       "    }\n",
       "</style>\n",
       "<table border=\"1\" class=\"dataframe\">\n",
       "  <thead>\n",
       "    <tr style=\"text-align: right;\">\n",
       "      <th></th>\n",
       "      <th>title</th>\n",
       "      <th>link</th>\n",
       "      <th>salary</th>\n",
       "      <th>location</th>\n",
       "      <th>company</th>\n",
       "      <th>classification</th>\n",
       "      <th>summary</th>\n",
       "      <th>state</th>\n",
       "    </tr>\n",
       "  </thead>\n",
       "  <tbody>\n",
       "    <tr>\n",
       "      <th>89</th>\n",
       "      <td>Design Engineer</td>\n",
       "      <td>/job/37426942?type=promoted</td>\n",
       "      <td>NaN</td>\n",
       "      <td>Ireland</td>\n",
       "      <td>PM Group</td>\n",
       "      <td>Engineering</td>\n",
       "      <td>We are currently looking to recruit an experie...</td>\n",
       "      <td>NA</td>\n",
       "    </tr>\n",
       "  </tbody>\n",
       "</table>\n",
       "</div>"
      ],
      "text/plain": [
       "              title                         link salary location   company  \\\n",
       "89  Design Engineer  /job/37426942?type=promoted    NaN  Ireland  PM Group   \n",
       "\n",
       "   classification                                            summary state  \n",
       "89    Engineering  We are currently looking to recruit an experie...    NA  "
      ]
     },
     "execution_count": 32,
     "metadata": {},
     "output_type": "execute_result"
    }
   ],
   "source": [
    "hundred[hundred['state'] == 'NA']\n",
    "onetwenty[onetwenty['state'] == 'NA']"
   ]
  },
  {
   "cell_type": "code",
   "execution_count": 33,
   "metadata": {},
   "outputs": [],
   "source": [
    "# drop the one in the one hundred as it is the same as the one in one twenty\n",
    "dropindex = hundred[hundred['state'] == 'NA'].index.tolist()\n",
    "hundred.drop(index=dropindex, axis='index', inplace=True)"
   ]
  },
  {
   "cell_type": "code",
   "execution_count": 34,
   "metadata": {},
   "outputs": [
    {
     "name": "stdout",
     "output_type": "stream",
     "text": [
      "['VIC' 'NSW' 'QLD' 'SA' 'WA' 'ACT' 'NT' 'TAS']\n"
     ]
    },
    {
     "data": {
      "text/html": [
       "<div>\n",
       "<style scoped>\n",
       "    .dataframe tbody tr th:only-of-type {\n",
       "        vertical-align: middle;\n",
       "    }\n",
       "\n",
       "    .dataframe tbody tr th {\n",
       "        vertical-align: top;\n",
       "    }\n",
       "\n",
       "    .dataframe thead th {\n",
       "        text-align: right;\n",
       "    }\n",
       "</style>\n",
       "<table border=\"1\" class=\"dataframe\">\n",
       "  <thead>\n",
       "    <tr style=\"text-align: right;\">\n",
       "      <th></th>\n",
       "      <th>title</th>\n",
       "      <th>link</th>\n",
       "      <th>salary</th>\n",
       "      <th>location</th>\n",
       "      <th>company</th>\n",
       "      <th>classification</th>\n",
       "      <th>summary</th>\n",
       "      <th>state</th>\n",
       "    </tr>\n",
       "  </thead>\n",
       "  <tbody>\n",
       "    <tr>\n",
       "      <th>0</th>\n",
       "      <td>Enterprise Data &amp; Reporting Lead</td>\n",
       "      <td>/job/37393509?type=promoted</td>\n",
       "      <td>Base + Super + Profit Share</td>\n",
       "      <td>Melbourne</td>\n",
       "      <td>SEEK Limited</td>\n",
       "      <td>Information &amp; Communication Technology</td>\n",
       "      <td>About SEEK SEEK is the global leader in the cr...</td>\n",
       "      <td>VIC</td>\n",
       "    </tr>\n",
       "    <tr>\n",
       "      <th>1</th>\n",
       "      <td>C# Software Engineer |GUI | Market Data |Equit...</td>\n",
       "      <td>/job/37394390?type=promoted</td>\n",
       "      <td>NaN</td>\n",
       "      <td>Sydney</td>\n",
       "      <td>Kapital Consulting</td>\n",
       "      <td>Information &amp; Communication Technology</td>\n",
       "      <td>About the Role An opportunity is available for...</td>\n",
       "      <td>NSW</td>\n",
       "    </tr>\n",
       "  </tbody>\n",
       "</table>\n",
       "</div>"
      ],
      "text/plain": [
       "                                               title  \\\n",
       "0                   Enterprise Data & Reporting Lead   \n",
       "1  C# Software Engineer |GUI | Market Data |Equit...   \n",
       "\n",
       "                          link                       salary   location  \\\n",
       "0  /job/37393509?type=promoted  Base + Super + Profit Share  Melbourne   \n",
       "1  /job/37394390?type=promoted                          NaN     Sydney   \n",
       "\n",
       "              company                          classification  \\\n",
       "0        SEEK Limited  Information & Communication Technology   \n",
       "1  Kapital Consulting  Information & Communication Technology   \n",
       "\n",
       "                                             summary state  \n",
       "0  About SEEK SEEK is the global leader in the cr...   VIC  \n",
       "1  About the Role An opportunity is available for...   NSW  "
      ]
     },
     "execution_count": 34,
     "metadata": {},
     "output_type": "execute_result"
    }
   ],
   "source": [
    "onefifty['state'] = onefifty['location'].apply(get_location_states)\n",
    "print(onefifty['state'].unique())\n",
    "onefifty.head(2)"
   ]
  },
  {
   "cell_type": "code",
   "execution_count": 35,
   "metadata": {},
   "outputs": [
    {
     "name": "stdout",
     "output_type": "stream",
     "text": [
      "['VIC' 'NSW' 'QLD' 'ACT' 'SA' 'WA' 'NT']\n"
     ]
    },
    {
     "data": {
      "text/html": [
       "<div>\n",
       "<style scoped>\n",
       "    .dataframe tbody tr th:only-of-type {\n",
       "        vertical-align: middle;\n",
       "    }\n",
       "\n",
       "    .dataframe tbody tr th {\n",
       "        vertical-align: top;\n",
       "    }\n",
       "\n",
       "    .dataframe thead th {\n",
       "        text-align: right;\n",
       "    }\n",
       "</style>\n",
       "<table border=\"1\" class=\"dataframe\">\n",
       "  <thead>\n",
       "    <tr style=\"text-align: right;\">\n",
       "      <th></th>\n",
       "      <th>title</th>\n",
       "      <th>link</th>\n",
       "      <th>salary</th>\n",
       "      <th>location</th>\n",
       "      <th>company</th>\n",
       "      <th>classification</th>\n",
       "      <th>summary</th>\n",
       "      <th>state</th>\n",
       "    </tr>\n",
       "  </thead>\n",
       "  <tbody>\n",
       "    <tr>\n",
       "      <th>0</th>\n",
       "      <td>Enterprise Data &amp; Reporting Lead</td>\n",
       "      <td>/job/37393509?type=promoted</td>\n",
       "      <td>Base + Super + Profit Share</td>\n",
       "      <td>Melbourne</td>\n",
       "      <td>SEEK Limited</td>\n",
       "      <td>Information &amp; Communication Technology</td>\n",
       "      <td>About SEEK SEEK is the global leader in the cr...</td>\n",
       "      <td>VIC</td>\n",
       "    </tr>\n",
       "    <tr>\n",
       "      <th>1</th>\n",
       "      <td>C# Software Engineer |GUI | Market Data |Equit...</td>\n",
       "      <td>/job/37394390?type=promoted</td>\n",
       "      <td>NaN</td>\n",
       "      <td>Sydney</td>\n",
       "      <td>Kapital Consulting</td>\n",
       "      <td>Information &amp; Communication Technology</td>\n",
       "      <td>About the Role An opportunity is available for...</td>\n",
       "      <td>NSW</td>\n",
       "    </tr>\n",
       "  </tbody>\n",
       "</table>\n",
       "</div>"
      ],
      "text/plain": [
       "                                               title  \\\n",
       "0                   Enterprise Data & Reporting Lead   \n",
       "1  C# Software Engineer |GUI | Market Data |Equit...   \n",
       "\n",
       "                          link                       salary   location  \\\n",
       "0  /job/37393509?type=promoted  Base + Super + Profit Share  Melbourne   \n",
       "1  /job/37394390?type=promoted                          NaN     Sydney   \n",
       "\n",
       "              company                          classification  \\\n",
       "0        SEEK Limited  Information & Communication Technology   \n",
       "1  Kapital Consulting  Information & Communication Technology   \n",
       "\n",
       "                                             summary state  \n",
       "0  About SEEK SEEK is the global leader in the cr...   VIC  \n",
       "1  About the Role An opportunity is available for...   NSW  "
      ]
     },
     "execution_count": 35,
     "metadata": {},
     "output_type": "execute_result"
    }
   ],
   "source": [
    "twohundred['state'] = twohundred['location'].apply(get_location_states)\n",
    "print(twohundred['state'].unique())\n",
    "twohundred.head(2)"
   ]
  },
  {
   "cell_type": "code",
   "execution_count": 36,
   "metadata": {},
   "outputs": [
    {
     "name": "stdout",
     "output_type": "stream",
     "text": [
      "['QLD' 'VIC' 'ACT' 'NSW' 'WA' 'SA' 'NT']\n"
     ]
    },
    {
     "data": {
      "text/html": [
       "<div>\n",
       "<style scoped>\n",
       "    .dataframe tbody tr th:only-of-type {\n",
       "        vertical-align: middle;\n",
       "    }\n",
       "\n",
       "    .dataframe tbody tr th {\n",
       "        vertical-align: top;\n",
       "    }\n",
       "\n",
       "    .dataframe thead th {\n",
       "        text-align: right;\n",
       "    }\n",
       "</style>\n",
       "<table border=\"1\" class=\"dataframe\">\n",
       "  <thead>\n",
       "    <tr style=\"text-align: right;\">\n",
       "      <th></th>\n",
       "      <th>title</th>\n",
       "      <th>link</th>\n",
       "      <th>salary</th>\n",
       "      <th>location</th>\n",
       "      <th>company</th>\n",
       "      <th>classification</th>\n",
       "      <th>summary</th>\n",
       "      <th>state</th>\n",
       "    </tr>\n",
       "  </thead>\n",
       "  <tbody>\n",
       "    <tr>\n",
       "      <th>0</th>\n",
       "      <td>Data Analyst</td>\n",
       "      <td>/job/37560918?type=standout</td>\n",
       "      <td>NaN</td>\n",
       "      <td>Brisbane</td>\n",
       "      <td>Talent – Winner ‘Seek Large Recruitment Agency...</td>\n",
       "      <td>Information &amp; Communication Technology</td>\n",
       "      <td>We are currently looking for a Data/Informatio...</td>\n",
       "      <td>QLD</td>\n",
       "    </tr>\n",
       "    <tr>\n",
       "      <th>1</th>\n",
       "      <td>BI Data Architect</td>\n",
       "      <td>/job/37560710?type=standout</td>\n",
       "      <td>NaN</td>\n",
       "      <td>Melbourne</td>\n",
       "      <td>KIT Consulting Group</td>\n",
       "      <td>Information &amp; Communication Technology</td>\n",
       "      <td>Deliver key strategic change within the compl...</td>\n",
       "      <td>VIC</td>\n",
       "    </tr>\n",
       "  </tbody>\n",
       "</table>\n",
       "</div>"
      ],
      "text/plain": [
       "               title                         link salary   location  \\\n",
       "0       Data Analyst  /job/37560918?type=standout    NaN   Brisbane   \n",
       "1  BI Data Architect  /job/37560710?type=standout    NaN  Melbourne   \n",
       "\n",
       "                                             company  \\\n",
       "0  Talent – Winner ‘Seek Large Recruitment Agency...   \n",
       "1                               KIT Consulting Group   \n",
       "\n",
       "                           classification  \\\n",
       "0  Information & Communication Technology   \n",
       "1  Information & Communication Technology   \n",
       "\n",
       "                                             summary state  \n",
       "0  We are currently looking for a Data/Informatio...   QLD  \n",
       "1   Deliver key strategic change within the compl...   VIC  "
      ]
     },
     "execution_count": 36,
     "metadata": {},
     "output_type": "execute_result"
    }
   ],
   "source": [
    "twofifty['state'] = twofifty['location'].apply(get_location_states)\n",
    "print(twofifty['state'].unique())\n",
    "twofifty.head(2)"
   ]
  },
  {
   "cell_type": "code",
   "execution_count": 37,
   "metadata": {},
   "outputs": [],
   "source": [
    "# There are still probably that some companies are duplicates with each other when combined all groups togther\n",
    "# This will be dealt with later"
   ]
  },
  {
   "cell_type": "markdown",
   "metadata": {},
   "source": [
    "###  Data Manipulation and Cleaning\n",
    "    3. Modify salary, to add 2 columns\n",
    "    \n",
    "    Steps:\n",
    "    * 1 column to put in the salary bracket\n",
    "    * 2 column to put in the 100K or less (0) or 100K or above (1)\n",
    "\n",
    "\n",
    "| Pay Group | From ('000) | To ('000)|\n",
    "| --- | --- | --- |\n",
    "| Sixty | 0 | 60 |\n",
    "| Eight | 60 | 80 |\n",
    "| Hundred | 80 | 100 |\n",
    "| One Hundred Twenty | 100 | 120 |\n",
    "| One Hundred Fifty | 120 | 150 |\n",
    "| Two Hundred | 150 | 200 |\n",
    "| Two Hundred Fifty | 200 | 250+ |\n",
    "\n",
    "\n",
    "   "
   ]
  },
  {
   "cell_type": "code",
   "execution_count": 38,
   "metadata": {},
   "outputs": [],
   "source": [
    "sixty['salary_bracket'] = 60  #\n",
    "sixty['salary_high'] = 0 #less than 100K : 0, more than 100K : 1"
   ]
  },
  {
   "cell_type": "code",
   "execution_count": 39,
   "metadata": {},
   "outputs": [],
   "source": [
    "eighty['salary_bracket'] = 80  #\n",
    "eighty['salary_high'] = 0 #less than 100K : 0, more than 100K : 1"
   ]
  },
  {
   "cell_type": "code",
   "execution_count": 40,
   "metadata": {},
   "outputs": [],
   "source": [
    "hundred['salary_bracket'] = 100  #\n",
    "hundred['salary_high'] = 0 #less than 100K : 0, more than 100K : 1"
   ]
  },
  {
   "cell_type": "code",
   "execution_count": 41,
   "metadata": {},
   "outputs": [],
   "source": [
    "onetwenty['salary_bracket'] = 120  #\n",
    "onetwenty['salary_high'] = 1 #less than 100K : 0, more than 100K : 1"
   ]
  },
  {
   "cell_type": "code",
   "execution_count": 42,
   "metadata": {},
   "outputs": [],
   "source": [
    "onefifty['salary_bracket'] = 150  #\n",
    "onefifty['salary_high'] = 1 #less than 120K : 0, more than 120K : 1"
   ]
  },
  {
   "cell_type": "code",
   "execution_count": 43,
   "metadata": {},
   "outputs": [],
   "source": [
    "twohundred['salary_bracket'] = 200  #\n",
    "twohundred['salary_high'] = 1 #less than 120K : 0, more than 120K : 1"
   ]
  },
  {
   "cell_type": "code",
   "execution_count": 44,
   "metadata": {},
   "outputs": [],
   "source": [
    "twofifty['salary_bracket'] = 250  #\n",
    "twofifty['salary_high'] = 1 #less than 120K : 0, more than 120K : 1"
   ]
  },
  {
   "cell_type": "code",
   "execution_count": 45,
   "metadata": {},
   "outputs": [],
   "source": [
    "sixty.to_csv('./datasets/cleanSixty.csv')\n",
    "eighty.to_csv('./datasets/cleanEighty.csv')\n",
    "hundred.to_csv('./datasets/cleanHundred.csv')\n",
    "onetwenty.to_csv('./datasets/cleanOnetwenty.csv')\n",
    "onefifty.to_csv('./datasets/cleanOnefifty.csv')\n",
    "twohundred.to_csv('./datasets/cleanTwohundred.csv')\n",
    "twofifty.to_csv('./datasets/cleanTwofifty.csv')"
   ]
  },
  {
   "cell_type": "markdown",
   "metadata": {},
   "source": [
    "### Combine all of them into 1 data frame and further clean duplicates based on Summary"
   ]
  },
  {
   "cell_type": "code",
   "execution_count": 46,
   "metadata": {},
   "outputs": [],
   "source": [
    "df = pd.concat([sixty, eighty, hundred, onetwenty, onefifty, twohundred, twofifty])"
   ]
  },
  {
   "cell_type": "code",
   "execution_count": 47,
   "metadata": {},
   "outputs": [
    {
     "data": {
      "text/plain": [
       "(20156, 10)"
      ]
     },
     "execution_count": 47,
     "metadata": {},
     "output_type": "execute_result"
    }
   ],
   "source": [
    "df.shape"
   ]
  },
  {
   "cell_type": "code",
   "execution_count": 48,
   "metadata": {},
   "outputs": [
    {
     "data": {
      "text/plain": [
       "(14427, 10)"
      ]
     },
     "execution_count": 48,
     "metadata": {},
     "output_type": "execute_result"
    }
   ],
   "source": [
    "# drop all duplicates except first one and show shapes\n",
    "df.drop_duplicates(subset=['summary'], inplace=True)\n",
    "df.shape"
   ]
  },
  {
   "cell_type": "code",
   "execution_count": 49,
   "metadata": {},
   "outputs": [
    {
     "data": {
      "text/html": [
       "<div>\n",
       "<style scoped>\n",
       "    .dataframe tbody tr th:only-of-type {\n",
       "        vertical-align: middle;\n",
       "    }\n",
       "\n",
       "    .dataframe tbody tr th {\n",
       "        vertical-align: top;\n",
       "    }\n",
       "\n",
       "    .dataframe thead th {\n",
       "        text-align: right;\n",
       "    }\n",
       "</style>\n",
       "<table border=\"1\" class=\"dataframe\">\n",
       "  <thead>\n",
       "    <tr style=\"text-align: right;\">\n",
       "      <th></th>\n",
       "      <th>title</th>\n",
       "      <th>link</th>\n",
       "      <th>salary</th>\n",
       "      <th>location</th>\n",
       "      <th>company</th>\n",
       "      <th>classification</th>\n",
       "      <th>summary</th>\n",
       "      <th>state</th>\n",
       "      <th>salary_bracket</th>\n",
       "      <th>salary_high</th>\n",
       "    </tr>\n",
       "  </thead>\n",
       "  <tbody>\n",
       "    <tr>\n",
       "      <th>0</th>\n",
       "      <td>Category Data Assistant</td>\n",
       "      <td>/job/37426653?type=promoted</td>\n",
       "      <td>NaN</td>\n",
       "      <td>Melbourne</td>\n",
       "      <td>TerryWhite Chemmart</td>\n",
       "      <td>Administration &amp; Office Support</td>\n",
       "      <td>About Us TerryWhite Chemmart (TWCM) is Austral...</td>\n",
       "      <td>VIC</td>\n",
       "      <td>60</td>\n",
       "      <td>0</td>\n",
       "    </tr>\n",
       "    <tr>\n",
       "      <th>1</th>\n",
       "      <td>Data Administrator</td>\n",
       "      <td>/job/37381361?type=promoted</td>\n",
       "      <td>NaN</td>\n",
       "      <td>Sydney</td>\n",
       "      <td>Krunchbox Operations</td>\n",
       "      <td>Information &amp; Communication Technology</td>\n",
       "      <td>About the business and the role This could be...</td>\n",
       "      <td>NSW</td>\n",
       "      <td>60</td>\n",
       "      <td>0</td>\n",
       "    </tr>\n",
       "    <tr>\n",
       "      <th>2</th>\n",
       "      <td>Data Entry</td>\n",
       "      <td>/job/37561354?type=standard</td>\n",
       "      <td>NaN</td>\n",
       "      <td>Perth</td>\n",
       "      <td>Page Personnel Office Support</td>\n",
       "      <td>Administration &amp; Office Support</td>\n",
       "      <td>Provide Data Entry support for a 4 week period...</td>\n",
       "      <td>WA</td>\n",
       "      <td>60</td>\n",
       "      <td>0</td>\n",
       "    </tr>\n",
       "    <tr>\n",
       "      <th>3</th>\n",
       "      <td>Accounts Assistant / Data Entry</td>\n",
       "      <td>/job/37560786?type=standard</td>\n",
       "      <td>NaN</td>\n",
       "      <td>Perth</td>\n",
       "      <td>Perth Rad Clinic Limited</td>\n",
       "      <td>Administration &amp; Office Support</td>\n",
       "      <td>About Perth Radiological Clinic Perth Radiolog...</td>\n",
       "      <td>WA</td>\n",
       "      <td>60</td>\n",
       "      <td>0</td>\n",
       "    </tr>\n",
       "    <tr>\n",
       "      <th>4</th>\n",
       "      <td>Admin /Data Entry</td>\n",
       "      <td>/job/37560693?type=standard</td>\n",
       "      <td>Up to $27.23 p.h. + Super</td>\n",
       "      <td>Wollongong, Illawarra &amp; South Coast</td>\n",
       "      <td>Veritas Recruitment</td>\n",
       "      <td>Administration &amp; Office Support</td>\n",
       "      <td>The Company  This market leading company requi...</td>\n",
       "      <td>NSW</td>\n",
       "      <td>60</td>\n",
       "      <td>0</td>\n",
       "    </tr>\n",
       "  </tbody>\n",
       "</table>\n",
       "</div>"
      ],
      "text/plain": [
       "                             title                         link  \\\n",
       "0          Category Data Assistant  /job/37426653?type=promoted   \n",
       "1               Data Administrator  /job/37381361?type=promoted   \n",
       "2                       Data Entry  /job/37561354?type=standard   \n",
       "3  Accounts Assistant / Data Entry  /job/37560786?type=standard   \n",
       "4                Admin /Data Entry  /job/37560693?type=standard   \n",
       "\n",
       "                      salary                             location  \\\n",
       "0                        NaN                            Melbourne   \n",
       "1                        NaN                               Sydney   \n",
       "2                        NaN                                Perth   \n",
       "3                        NaN                                Perth   \n",
       "4  Up to $27.23 p.h. + Super  Wollongong, Illawarra & South Coast   \n",
       "\n",
       "                         company                          classification  \\\n",
       "0            TerryWhite Chemmart         Administration & Office Support   \n",
       "1           Krunchbox Operations  Information & Communication Technology   \n",
       "2  Page Personnel Office Support         Administration & Office Support   \n",
       "3       Perth Rad Clinic Limited         Administration & Office Support   \n",
       "4            Veritas Recruitment         Administration & Office Support   \n",
       "\n",
       "                                             summary state  salary_bracket  \\\n",
       "0  About Us TerryWhite Chemmart (TWCM) is Austral...   VIC              60   \n",
       "1   About the business and the role This could be...   NSW              60   \n",
       "2  Provide Data Entry support for a 4 week period...    WA              60   \n",
       "3  About Perth Radiological Clinic Perth Radiolog...    WA              60   \n",
       "4  The Company  This market leading company requi...   NSW              60   \n",
       "\n",
       "   salary_high  \n",
       "0            0  \n",
       "1            0  \n",
       "2            0  \n",
       "3            0  \n",
       "4            0  "
      ]
     },
     "execution_count": 49,
     "metadata": {},
     "output_type": "execute_result"
    }
   ],
   "source": [
    "df.head()"
   ]
  },
  {
   "cell_type": "markdown",
   "metadata": {},
   "source": [
    "### Drop all the columns that no longer in our interest"
   ]
  },
  {
   "cell_type": "code",
   "execution_count": 50,
   "metadata": {},
   "outputs": [],
   "source": [
    "df.drop(columns=['link', 'salary', 'location', 'company'], inplace=True)"
   ]
  },
  {
   "cell_type": "code",
   "execution_count": null,
   "metadata": {},
   "outputs": [],
   "source": []
  },
  {
   "cell_type": "markdown",
   "metadata": {},
   "source": [
    "## Clean the Title and Summary"
   ]
  },
  {
   "cell_type": "markdown",
   "metadata": {},
   "source": [
    "df['title'] = df['title'].str.replace(\"[-({':/})]\",' ')\n",
    "df['title'] = df['title'].str.replace(\"\\\\r\\\\n\",' ')\n",
    "df['title'] = df['title'].str.replace('^\\w\\s\\&\\<\\>',' ')\n",
    "df['title'] = df['title'].str.replace('|',' ')\n",
    "df['title'] = df['title'].str.replace('–','')\n",
    "df['summary'] = df['summary'].str.replace(',','')\n",
    "df['title'].head()"
   ]
  },
  {
   "cell_type": "markdown",
   "metadata": {},
   "source": [
    "df['summary'] = df['summary'].str.replace(\"[-({':/})]\",' ')\n",
    "df['summary'] = df['summary'].str.replace(\"\\\\r\\\\n\",' ')\n",
    "df['summary'] = df['summary'].str.replace('^\\w\\s\\&\\<\\>',' ')\n",
    "df['summary'] = df['summary'].str.replace(',','')\n",
    "df['summary'] = df['summary'].str.replace('|','')\n",
    "\n",
    "df['summary'].head(10)"
   ]
  },
  {
   "cell_type": "code",
   "execution_count": 51,
   "metadata": {},
   "outputs": [
    {
     "data": {
      "text/html": [
       "<div>\n",
       "<style scoped>\n",
       "    .dataframe tbody tr th:only-of-type {\n",
       "        vertical-align: middle;\n",
       "    }\n",
       "\n",
       "    .dataframe tbody tr th {\n",
       "        vertical-align: top;\n",
       "    }\n",
       "\n",
       "    .dataframe thead th {\n",
       "        text-align: right;\n",
       "    }\n",
       "</style>\n",
       "<table border=\"1\" class=\"dataframe\">\n",
       "  <thead>\n",
       "    <tr style=\"text-align: right;\">\n",
       "      <th></th>\n",
       "      <th>title</th>\n",
       "      <th>classification</th>\n",
       "      <th>summary</th>\n",
       "      <th>state</th>\n",
       "      <th>salary_bracket</th>\n",
       "      <th>salary_high</th>\n",
       "    </tr>\n",
       "  </thead>\n",
       "  <tbody>\n",
       "    <tr>\n",
       "      <th>1183</th>\n",
       "      <td>Instructional Designer</td>\n",
       "      <td>Information &amp; Communication Technology</td>\n",
       "      <td>About the companyA leading banking organisatio...</td>\n",
       "      <td>NSW</td>\n",
       "      <td>250</td>\n",
       "      <td>1</td>\n",
       "    </tr>\n",
       "    <tr>\n",
       "      <th>1187</th>\n",
       "      <td>Solutions Architect</td>\n",
       "      <td>Information &amp; Communication Technology</td>\n",
       "      <td>\\r\\n Children’s Health Queensland is seeking t...</td>\n",
       "      <td>QLD</td>\n",
       "      <td>250</td>\n",
       "      <td>1</td>\n",
       "    </tr>\n",
       "    <tr>\n",
       "      <th>1190</th>\n",
       "      <td>Mainframe Analyst Programmer</td>\n",
       "      <td>Information &amp; Communication Technology</td>\n",
       "      <td>Mainframe Analyst Programmer required for lead...</td>\n",
       "      <td>NSW</td>\n",
       "      <td>250</td>\n",
       "      <td>1</td>\n",
       "    </tr>\n",
       "    <tr>\n",
       "      <th>1192</th>\n",
       "      <td>Instructional Designer - Digital Literacy Trai...</td>\n",
       "      <td>Human Resources &amp; Recruitment</td>\n",
       "      <td>Bluefin are working with a Federal government ...</td>\n",
       "      <td>NSW</td>\n",
       "      <td>250</td>\n",
       "      <td>1</td>\n",
       "    </tr>\n",
       "    <tr>\n",
       "      <th>1198</th>\n",
       "      <td>Frontend Team Lead</td>\n",
       "      <td>Information &amp; Communication Technology</td>\n",
       "      <td>We are on the lookout for an experienced and p...</td>\n",
       "      <td>NSW</td>\n",
       "      <td>250</td>\n",
       "      <td>1</td>\n",
       "    </tr>\n",
       "  </tbody>\n",
       "</table>\n",
       "</div>"
      ],
      "text/plain": [
       "                                                  title  \\\n",
       "1183                             Instructional Designer   \n",
       "1187                                Solutions Architect   \n",
       "1190                       Mainframe Analyst Programmer   \n",
       "1192  Instructional Designer - Digital Literacy Trai...   \n",
       "1198                                 Frontend Team Lead   \n",
       "\n",
       "                              classification  \\\n",
       "1183  Information & Communication Technology   \n",
       "1187  Information & Communication Technology   \n",
       "1190  Information & Communication Technology   \n",
       "1192           Human Resources & Recruitment   \n",
       "1198  Information & Communication Technology   \n",
       "\n",
       "                                                summary state  salary_bracket  \\\n",
       "1183  About the companyA leading banking organisatio...   NSW             250   \n",
       "1187  \\r\\n Children’s Health Queensland is seeking t...   QLD             250   \n",
       "1190  Mainframe Analyst Programmer required for lead...   NSW             250   \n",
       "1192  Bluefin are working with a Federal government ...   NSW             250   \n",
       "1198  We are on the lookout for an experienced and p...   NSW             250   \n",
       "\n",
       "      salary_high  \n",
       "1183            1  \n",
       "1187            1  \n",
       "1190            1  \n",
       "1192            1  \n",
       "1198            1  "
      ]
     },
     "execution_count": 51,
     "metadata": {},
     "output_type": "execute_result"
    }
   ],
   "source": [
    "df.tail()"
   ]
  },
  {
   "cell_type": "code",
   "execution_count": 52,
   "metadata": {},
   "outputs": [
    {
     "data": {
      "text/plain": [
       "(14427, 6)"
      ]
     },
     "execution_count": 52,
     "metadata": {},
     "output_type": "execute_result"
    }
   ],
   "source": [
    "# now we have 14K rows and 6 columns\n",
    "df.shape"
   ]
  },
  {
   "cell_type": "code",
   "execution_count": 53,
   "metadata": {},
   "outputs": [
    {
     "data": {
      "text/plain": [
       "title             0\n",
       "classification    0\n",
       "summary           1\n",
       "state             0\n",
       "salary_bracket    0\n",
       "salary_high       0\n",
       "dtype: int64"
      ]
     },
     "execution_count": 53,
     "metadata": {},
     "output_type": "execute_result"
    }
   ],
   "source": [
    "df.isnull().sum()"
   ]
  },
  {
   "cell_type": "code",
   "execution_count": 54,
   "metadata": {},
   "outputs": [],
   "source": [
    "df.to_csv('./datasets/salary.csv')"
   ]
  },
  {
   "cell_type": "code",
   "execution_count": 55,
   "metadata": {},
   "outputs": [
    {
     "data": {
      "text/html": [
       "<div>\n",
       "<style scoped>\n",
       "    .dataframe tbody tr th:only-of-type {\n",
       "        vertical-align: middle;\n",
       "    }\n",
       "\n",
       "    .dataframe tbody tr th {\n",
       "        vertical-align: top;\n",
       "    }\n",
       "\n",
       "    .dataframe thead th {\n",
       "        text-align: right;\n",
       "    }\n",
       "</style>\n",
       "<table border=\"1\" class=\"dataframe\">\n",
       "  <thead>\n",
       "    <tr style=\"text-align: right;\">\n",
       "      <th></th>\n",
       "      <th>title</th>\n",
       "      <th>classification</th>\n",
       "      <th>summary</th>\n",
       "      <th>state</th>\n",
       "      <th>salary_bracket</th>\n",
       "      <th>salary_high</th>\n",
       "    </tr>\n",
       "  </thead>\n",
       "  <tbody>\n",
       "    <tr>\n",
       "      <th>2421</th>\n",
       "      <td>Head of Marketing</td>\n",
       "      <td>Marketing &amp; Communications</td>\n",
       "      <td>My client: A global leader within Software Con...</td>\n",
       "      <td>NSW</td>\n",
       "      <td>200</td>\n",
       "      <td>1</td>\n",
       "    </tr>\n",
       "    <tr>\n",
       "      <th>2013</th>\n",
       "      <td>Senior Data Engineer / Data Warehouse / Redshi...</td>\n",
       "      <td>Consulting &amp; Strategy</td>\n",
       "      <td>About us EY DnA is the data and advanced analy...</td>\n",
       "      <td>VIC</td>\n",
       "      <td>150</td>\n",
       "      <td>1</td>\n",
       "    </tr>\n",
       "    <tr>\n",
       "      <th>3405</th>\n",
       "      <td>.NET Developer</td>\n",
       "      <td>Information &amp; Communication Technology</td>\n",
       "      <td>.NET DEVELOPER - FRONTEND WIZ!!Our client is a...</td>\n",
       "      <td>NSW</td>\n",
       "      <td>120</td>\n",
       "      <td>1</td>\n",
       "    </tr>\n",
       "    <tr>\n",
       "      <th>1034</th>\n",
       "      <td>Senior Business Analyst</td>\n",
       "      <td>Mining, Resources &amp; Energy</td>\n",
       "      <td>Bengalla Mining Company is a joint venture wit...</td>\n",
       "      <td>NSW</td>\n",
       "      <td>120</td>\n",
       "      <td>1</td>\n",
       "    </tr>\n",
       "    <tr>\n",
       "      <th>2987</th>\n",
       "      <td>Customer Service Administration</td>\n",
       "      <td>Call Centre &amp; Customer Service</td>\n",
       "      <td>Are you a Customer Service Star? Then look no...</td>\n",
       "      <td>NSW</td>\n",
       "      <td>80</td>\n",
       "      <td>0</td>\n",
       "    </tr>\n",
       "    <tr>\n",
       "      <th>1007</th>\n",
       "      <td>Government Services Program Manager</td>\n",
       "      <td>Education &amp; Training</td>\n",
       "      <td>Full time, fixed term until 30 June 2020 Navit...</td>\n",
       "      <td>NSW</td>\n",
       "      <td>150</td>\n",
       "      <td>1</td>\n",
       "    </tr>\n",
       "    <tr>\n",
       "      <th>2481</th>\n",
       "      <td>Goods Receiving - South Melbourne</td>\n",
       "      <td>Manufacturing, Transport &amp; Logistics</td>\n",
       "      <td>What’s in this for you?   Opportunity to merge...</td>\n",
       "      <td>VIC</td>\n",
       "      <td>60</td>\n",
       "      <td>0</td>\n",
       "    </tr>\n",
       "    <tr>\n",
       "      <th>3776</th>\n",
       "      <td>Test Lead - ERP Implementation</td>\n",
       "      <td>Information &amp; Communication Technology</td>\n",
       "      <td>My client is a global company who are looking ...</td>\n",
       "      <td>NSW</td>\n",
       "      <td>120</td>\n",
       "      <td>1</td>\n",
       "    </tr>\n",
       "    <tr>\n",
       "      <th>2035</th>\n",
       "      <td>Intermediate Accountant</td>\n",
       "      <td>Accounting</td>\n",
       "      <td>We are looking for a stand-out candidate to le...</td>\n",
       "      <td>NSW</td>\n",
       "      <td>80</td>\n",
       "      <td>0</td>\n",
       "    </tr>\n",
       "    <tr>\n",
       "      <th>1341</th>\n",
       "      <td>Business Analyst</td>\n",
       "      <td>Information &amp; Communication Technology</td>\n",
       "      <td>9 months + extensions Valley location This is...</td>\n",
       "      <td>QLD</td>\n",
       "      <td>200</td>\n",
       "      <td>1</td>\n",
       "    </tr>\n",
       "  </tbody>\n",
       "</table>\n",
       "</div>"
      ],
      "text/plain": [
       "                                                  title  \\\n",
       "2421                                  Head of Marketing   \n",
       "2013  Senior Data Engineer / Data Warehouse / Redshi...   \n",
       "3405                                     .NET Developer   \n",
       "1034                            Senior Business Analyst   \n",
       "2987                    Customer Service Administration   \n",
       "1007                Government Services Program Manager   \n",
       "2481                  Goods Receiving - South Melbourne   \n",
       "3776                     Test Lead - ERP Implementation   \n",
       "2035                            Intermediate Accountant   \n",
       "1341                                   Business Analyst   \n",
       "\n",
       "                              classification  \\\n",
       "2421              Marketing & Communications   \n",
       "2013                   Consulting & Strategy   \n",
       "3405  Information & Communication Technology   \n",
       "1034              Mining, Resources & Energy   \n",
       "2987          Call Centre & Customer Service   \n",
       "1007                    Education & Training   \n",
       "2481    Manufacturing, Transport & Logistics   \n",
       "3776  Information & Communication Technology   \n",
       "2035                              Accounting   \n",
       "1341  Information & Communication Technology   \n",
       "\n",
       "                                                summary state  salary_bracket  \\\n",
       "2421  My client: A global leader within Software Con...   NSW             200   \n",
       "2013  About us EY DnA is the data and advanced analy...   VIC             150   \n",
       "3405  .NET DEVELOPER - FRONTEND WIZ!!Our client is a...   NSW             120   \n",
       "1034  Bengalla Mining Company is a joint venture wit...   NSW             120   \n",
       "2987   Are you a Customer Service Star? Then look no...   NSW              80   \n",
       "1007  Full time, fixed term until 30 June 2020 Navit...   NSW             150   \n",
       "2481  What’s in this for you?   Opportunity to merge...   VIC              60   \n",
       "3776  My client is a global company who are looking ...   NSW             120   \n",
       "2035  We are looking for a stand-out candidate to le...   NSW              80   \n",
       "1341   9 months + extensions Valley location This is...   QLD             200   \n",
       "\n",
       "      salary_high  \n",
       "2421            1  \n",
       "2013            1  \n",
       "3405            1  \n",
       "1034            1  \n",
       "2987            0  \n",
       "1007            1  \n",
       "2481            0  \n",
       "3776            1  \n",
       "2035            0  \n",
       "1341            1  "
      ]
     },
     "execution_count": 55,
     "metadata": {},
     "output_type": "execute_result"
    }
   ],
   "source": [
    "df.sample(10)"
   ]
  },
  {
   "cell_type": "code",
   "execution_count": null,
   "metadata": {},
   "outputs": [],
   "source": []
  }
 ],
 "metadata": {
  "kernelspec": {
   "display_name": "Python 3",
   "language": "python",
   "name": "python3"
  },
  "language_info": {
   "codemirror_mode": {
    "name": "ipython",
    "version": 3
   },
   "file_extension": ".py",
   "mimetype": "text/x-python",
   "name": "python",
   "nbconvert_exporter": "python",
   "pygments_lexer": "ipython3",
   "version": "3.7.0"
  }
 },
 "nbformat": 4,
 "nbformat_minor": 2
}
