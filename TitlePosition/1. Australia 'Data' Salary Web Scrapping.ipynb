{
 "cells": [
  {
   "cell_type": "markdown",
   "metadata": {},
   "source": [
    "# Australia 'Data' Salary Web Scrapping based on Job Title\n",
    "\n",
    "Data Collection will be any jobs with the world data inside\n",
    "\n",
    "Each of these groups will be further divied into different groups based on pay\n",
    "\n",
    "Job Title and If the pay is less than 100K or higher than 100K\n",
    "* Data Analyst\n",
    "* Data Engineering\n",
    "* Data Science\n",
    "* Data Scienst"
   ]
  },
  {
   "cell_type": "markdown",
   "metadata": {},
   "source": [
    "Import python related libraries for data processing and web scraping"
   ]
  },
  {
   "cell_type": "code",
   "execution_count": 1,
   "metadata": {},
   "outputs": [],
   "source": [
    "import matplotlib.pyplot as plt\n",
    "import numpy as np\n",
    "import pandas as pd\n",
    "import seaborn as sns\n",
    "\n",
    "plt.style.use('fivethirtyeight')\n",
    "\n",
    "%matplotlib inline\n",
    "%config InlineBackend.figure_format = 'retina'"
   ]
  },
  {
   "cell_type": "code",
   "execution_count": 2,
   "metadata": {},
   "outputs": [],
   "source": [
    "from bs4 import BeautifulSoup\n",
    "import requests\n",
    "import re\n",
    "\n",
    "# import sleep\n",
    "from time import sleep"
   ]
  },
  {
   "cell_type": "code",
   "execution_count": 3,
   "metadata": {},
   "outputs": [],
   "source": [
    "baseurl = \"https://www.seek.com.au/\""
   ]
  },
  {
   "cell_type": "code",
   "execution_count": 4,
   "metadata": {},
   "outputs": [],
   "source": [
    "def getting_data(url):\n",
    "    ###\n",
    "    ###  This function send request to the web server\n",
    "    ###  Get the response back, Check Status Code\n",
    "    ###  Grab HTML and turns it to Beautiful Soup\n",
    "    ###\n",
    "    \n",
    "    #send request to the url given\n",
    "    response = requests.get(url)\n",
    "    \n",
    "    if response.status_code == 200:\n",
    "        #received the data basck\n",
    "        html = response.text\n",
    "    \n",
    "        #parse HTML to Beautiful Soup\n",
    "        soup = BeautifulSoup(html, 'lxml')\n",
    "    \n",
    "        return soup\n",
    "    \n",
    "    else:\n",
    "        return None"
   ]
  },
  {
   "cell_type": "code",
   "execution_count": 5,
   "metadata": {},
   "outputs": [],
   "source": [
    "def get_job_summary(link):\n",
    "    \n",
    "    ###\n",
    "    ###  This function get the Link to the Job Ad\n",
    "    ###  Get the response back and Extract Job Summary\n",
    "    ###  Turns it to Beautiful Soup and Extract Text\n",
    "    ###\n",
    "    \n",
    "    # open that page and get the job summary\n",
    "    url = baseurl + link\n",
    "    soup = getting_data(url)\n",
    "    \n",
    "    try:\n",
    "        jobDescription = soup.find('div', {'data-automation':'mobileTemplate'})\n",
    "        \n",
    "        return jobDescription.get_text()\n",
    "        \n",
    "    except:\n",
    "        \n",
    "        return None"
   ]
  },
  {
   "cell_type": "code",
   "execution_count": 6,
   "metadata": {},
   "outputs": [],
   "source": [
    "def get_job_details(job_article):\n",
    "    \n",
    "    ###\n",
    "    ###  Each job advertised on Seek on the list displayed is called Article\n",
    "    ###  This function receive one article at a time to extract job related info\n",
    "    ###  Then return it as a list of data\n",
    "    ###\n",
    "    \n",
    "    \n",
    "    try:\n",
    "        #send one job article at a time to extract each job data\n",
    "        job_ad = job_article.find('a', {'data-automation':'jobTitle'})\n",
    "        title = job_ad.text\n",
    "        link = job_ad['href']\n",
    "        #print ( 'title:', title)\n",
    "        #print ( 'link:', link)\n",
    "\n",
    "        job_ad = job_article.find('span', {'data-automation':'jobSalary'})\n",
    "        if (job_ad is None):\n",
    "            salary = 'NA'\n",
    "        else:\n",
    "            salary = job_ad.text\n",
    "        #print ('salary:', salary)\n",
    "\n",
    "        job_ad = job_article.find('a', {'data-automation':'jobCompany'})\n",
    "        if (job_ad is None):\n",
    "            company = 'NA'\n",
    "        else:\n",
    "            company = job_ad.text\n",
    "        #print ('company:', company)\n",
    "\n",
    "        job_ad = job_article.find('a', {'data-automation':'jobLocation'})\n",
    "        if (job_ad is None):\n",
    "            location = 'NA'\n",
    "        else:\n",
    "            location = job_ad.text\n",
    "        #print ('location:', location)\n",
    "\n",
    "\n",
    "        job_ad = job_article.find('a', {'data-automation':'jobClassification'})\n",
    "        if (job_ad is None):\n",
    "            classification = 'NA'\n",
    "        else:\n",
    "            classification = job_ad.text\n",
    "        #print ('classification:', classification)\n",
    "        \n",
    "        \n",
    "        jobsummary = get_job_summary(link)\n",
    "        \n",
    "        return [title, link, salary, location, company, classification, jobsummary]\n",
    "\n",
    "    except:\n",
    "        \n",
    "        return None\n"
   ]
  },
  {
   "cell_type": "code",
   "execution_count": 7,
   "metadata": {},
   "outputs": [],
   "source": [
    "def get_job_ads_no(jobSearch):\n",
    "    \n",
    "    job_listings = []\n",
    "    \n",
    "    \n",
    "    #send the html request for this job search\n",
    "    html = getting_data(jobSearch + '1')\n",
    "    \n",
    "    # get no of toal jobs found\n",
    "    jobcounts = html.find('strong',{'data-automation':'totalJobsCount'})\n",
    "    \n",
    "    # extract the jobs no\n",
    "    jobsfound = int(jobcounts.text.replace(\",\", \"\"))\n",
    "\n",
    "    #calculate how many pages need to collect the job listing\n",
    "    pages =  int(jobsfound / 20) + 1\n",
    "    \n",
    "    print (jobsfound, pages)\n",
    "    \n",
    "    \n",
    "    return pages\n",
    "    "
   ]
  },
  {
   "cell_type": "code",
   "execution_count": 8,
   "metadata": {},
   "outputs": [],
   "source": [
    "def get_job_articles(jobSearch, startPage, endPage):\n",
    "    \n",
    "    articleList = []\n",
    "    # getting job listing for each page\n",
    "    # each job is an article\n",
    "    for p in np.arange(startPage,endPage):\n",
    "\n",
    "        pageUrl = jobSearch + str(p + 1)\n",
    "        print (pageUrl)\n",
    "        \n",
    "        # wait one second before getting a page\n",
    "        sleep(1)\n",
    "        html = getting_data(pageUrl)\n",
    "        \n",
    "        # find each job listing\n",
    "        articleListPreminum = html.find_all('article',{'data-automation':'premiumJob'})\n",
    "        articleList.extend(articleListPreminum)\n",
    "        \n",
    "        articleListNormal = html.find_all('article',{'data-automation':'normalJob'})\n",
    "        articleList.extend(articleListNormal)\n",
    "    \n",
    "    return articleList\n",
    "    "
   ]
  },
  {
   "cell_type": "code",
   "execution_count": 9,
   "metadata": {},
   "outputs": [],
   "source": [
    "def get_df_Article(articleList):\n",
    "\n",
    "    ###\n",
    "    ###  This function recieved list of articles, then split the article list into half\n",
    "    ###  Then feed an article at a time into another function to extract job info\n",
    "    ###  Once processed return dataframes\n",
    "    ###\n",
    "    # ------------------------------------------------\n",
    "    # Process the articles\n",
    "    # ------------------------------------------------   \n",
    "    job_postings = []\n",
    "    \n",
    "    for i in range(len(articleList)):\n",
    "        new_postings = get_job_details(articleList[i])\n",
    "        \n",
    "        if new_postings is not None:\n",
    "            job_postings.append(new_postings)    \n",
    "    \n",
    "    #print (len(job_postings))\n",
    "    \n",
    "    # now create a dataframe frome the data\n",
    "    df = pd.DataFrame(job_postings, columns=['title', 'link', 'salary', 'location', 'company', 'classification', 'summary'])\n",
    "    \n",
    "    print ('finish process article')\n",
    "    \n",
    "    \n",
    "    return df"
   ]
  },
  {
   "cell_type": "code",
   "execution_count": 10,
   "metadata": {},
   "outputs": [],
   "source": [
    "### \n",
    "### Define variables related to the URL for web scraping on SEEK\n",
    "### Each sets are group based on Salary and to make it scrape in smaller chunks\n",
    "###\n",
    "baseurl = \"https://www.seek.com.au/\"\n",
    "\n",
    "low_suffix = '?salaryrange=0-100000&salarytype=annual&page='\n",
    "high_suffix = '?salaryrange=100000-999999&salarytype=annual&page='\n",
    "\n",
    "dataUrl = baseurl + \"data-jobs/\"\n",
    "\n",
    "analyst = \"data-analyst-jobs\"\n",
    "dataAnalystLow = dataUrl + analyst + low_suffix\n",
    "dataAnalystHigh  = dataUrl + analyst + high_suffix\n",
    "\n",
    "\n",
    "engineer = \"data-engineer-jobs\"\n",
    "dataEngineerLow = dataUrl + engineer + low_suffix\n",
    "dataEngineerHigh = dataUrl + engineer + high_suffix\n",
    "\n",
    "science = \"data-science-jobs\"\n",
    "dataScienceLow = dataUrl + science + low_suffix\n",
    "dataScienceHigh = dataUrl + science + high_suffix\n",
    "\n",
    "\n",
    "scientist = \"data-scientist-jobs\"\n",
    "dataScientistLow = dataUrl + scientist + low_suffix\n",
    "dataScientistHigh = dataUrl + scientist + high_suffix\n"
   ]
  },
  {
   "cell_type": "code",
   "execution_count": 11,
   "metadata": {},
   "outputs": [],
   "source": [
    "def get_jobs_data(url):\n",
    "    \n",
    "    # get job ads numbers\n",
    "    pages = get_job_ads_no(url)\n",
    "    \n",
    "\n",
    "    # get articles in chunks based on number of pages, make it 10 pages or 200~220 jobs increment at a time\n",
    "    for startPage in np.arange(0, pages, 10):\n",
    "\n",
    "        endPage = startPage + 10\n",
    "        articleList = get_job_articles(url, startPage, endPage)\n",
    "\n",
    "        # sometimes Seek cuts off the link - no more articles are returned\n",
    "        if not articleList:\n",
    "            print(\"List is empty\")\n",
    "            break\n",
    "        else:\n",
    "            new_df = get_df_Article(articleList)\n",
    "            if startPage == 0:\n",
    "                df = new_df\n",
    "            else:\n",
    "                df = pd.concat([df, new_df])\n",
    "                print(len(df))\n",
    "                \n",
    "                \n",
    "    return df\n"
   ]
  },
  {
   "cell_type": "markdown",
   "metadata": {},
   "source": [
    "### Getting data analyst jobs posting"
   ]
  },
  {
   "cell_type": "code",
   "execution_count": 12,
   "metadata": {
    "scrolled": false
   },
   "outputs": [
    {
     "name": "stdout",
     "output_type": "stream",
     "text": [
      "396 20\n",
      "https://www.seek.com.au/data-jobs/data-analyst-jobs?salaryrange=0-100000&salarytype=annual&page=1\n",
      "https://www.seek.com.au/data-jobs/data-analyst-jobs?salaryrange=0-100000&salarytype=annual&page=2\n",
      "https://www.seek.com.au/data-jobs/data-analyst-jobs?salaryrange=0-100000&salarytype=annual&page=3\n",
      "https://www.seek.com.au/data-jobs/data-analyst-jobs?salaryrange=0-100000&salarytype=annual&page=4\n",
      "https://www.seek.com.au/data-jobs/data-analyst-jobs?salaryrange=0-100000&salarytype=annual&page=5\n",
      "https://www.seek.com.au/data-jobs/data-analyst-jobs?salaryrange=0-100000&salarytype=annual&page=6\n",
      "https://www.seek.com.au/data-jobs/data-analyst-jobs?salaryrange=0-100000&salarytype=annual&page=7\n",
      "https://www.seek.com.au/data-jobs/data-analyst-jobs?salaryrange=0-100000&salarytype=annual&page=8\n",
      "https://www.seek.com.au/data-jobs/data-analyst-jobs?salaryrange=0-100000&salarytype=annual&page=9\n",
      "https://www.seek.com.au/data-jobs/data-analyst-jobs?salaryrange=0-100000&salarytype=annual&page=10\n",
      "finish process article\n",
      "https://www.seek.com.au/data-jobs/data-analyst-jobs?salaryrange=0-100000&salarytype=annual&page=11\n",
      "https://www.seek.com.au/data-jobs/data-analyst-jobs?salaryrange=0-100000&salarytype=annual&page=12\n",
      "https://www.seek.com.au/data-jobs/data-analyst-jobs?salaryrange=0-100000&salarytype=annual&page=13\n",
      "https://www.seek.com.au/data-jobs/data-analyst-jobs?salaryrange=0-100000&salarytype=annual&page=14\n",
      "https://www.seek.com.au/data-jobs/data-analyst-jobs?salaryrange=0-100000&salarytype=annual&page=15\n",
      "https://www.seek.com.au/data-jobs/data-analyst-jobs?salaryrange=0-100000&salarytype=annual&page=16\n",
      "https://www.seek.com.au/data-jobs/data-analyst-jobs?salaryrange=0-100000&salarytype=annual&page=17\n",
      "https://www.seek.com.au/data-jobs/data-analyst-jobs?salaryrange=0-100000&salarytype=annual&page=18\n",
      "https://www.seek.com.au/data-jobs/data-analyst-jobs?salaryrange=0-100000&salarytype=annual&page=19\n",
      "https://www.seek.com.au/data-jobs/data-analyst-jobs?salaryrange=0-100000&salarytype=annual&page=20\n",
      "finish process article\n",
      "396\n"
     ]
    },
    {
     "data": {
      "text/plain": [
       "(396, 7)"
      ]
     },
     "execution_count": 12,
     "metadata": {},
     "output_type": "execute_result"
    }
   ],
   "source": [
    "df = get_jobs_data(dataAnalystLow)\n",
    "df.to_csv('./datasets/dataAnalystLow.csv')\n",
    "df.shape"
   ]
  },
  {
   "cell_type": "code",
   "execution_count": 13,
   "metadata": {},
   "outputs": [
    {
     "name": "stdout",
     "output_type": "stream",
     "text": [
      "435 22\n",
      "https://www.seek.com.au/data-jobs/data-analyst-jobs?salaryrange=100000-999999&salarytype=annual&page=1\n",
      "https://www.seek.com.au/data-jobs/data-analyst-jobs?salaryrange=100000-999999&salarytype=annual&page=2\n",
      "https://www.seek.com.au/data-jobs/data-analyst-jobs?salaryrange=100000-999999&salarytype=annual&page=3\n",
      "https://www.seek.com.au/data-jobs/data-analyst-jobs?salaryrange=100000-999999&salarytype=annual&page=4\n",
      "https://www.seek.com.au/data-jobs/data-analyst-jobs?salaryrange=100000-999999&salarytype=annual&page=5\n",
      "https://www.seek.com.au/data-jobs/data-analyst-jobs?salaryrange=100000-999999&salarytype=annual&page=6\n",
      "https://www.seek.com.au/data-jobs/data-analyst-jobs?salaryrange=100000-999999&salarytype=annual&page=7\n",
      "https://www.seek.com.au/data-jobs/data-analyst-jobs?salaryrange=100000-999999&salarytype=annual&page=8\n",
      "https://www.seek.com.au/data-jobs/data-analyst-jobs?salaryrange=100000-999999&salarytype=annual&page=9\n",
      "https://www.seek.com.au/data-jobs/data-analyst-jobs?salaryrange=100000-999999&salarytype=annual&page=10\n",
      "finish process article\n",
      "https://www.seek.com.au/data-jobs/data-analyst-jobs?salaryrange=100000-999999&salarytype=annual&page=11\n",
      "https://www.seek.com.au/data-jobs/data-analyst-jobs?salaryrange=100000-999999&salarytype=annual&page=12\n",
      "https://www.seek.com.au/data-jobs/data-analyst-jobs?salaryrange=100000-999999&salarytype=annual&page=13\n",
      "https://www.seek.com.au/data-jobs/data-analyst-jobs?salaryrange=100000-999999&salarytype=annual&page=14\n",
      "https://www.seek.com.au/data-jobs/data-analyst-jobs?salaryrange=100000-999999&salarytype=annual&page=15\n",
      "https://www.seek.com.au/data-jobs/data-analyst-jobs?salaryrange=100000-999999&salarytype=annual&page=16\n",
      "https://www.seek.com.au/data-jobs/data-analyst-jobs?salaryrange=100000-999999&salarytype=annual&page=17\n",
      "https://www.seek.com.au/data-jobs/data-analyst-jobs?salaryrange=100000-999999&salarytype=annual&page=18\n",
      "https://www.seek.com.au/data-jobs/data-analyst-jobs?salaryrange=100000-999999&salarytype=annual&page=19\n",
      "https://www.seek.com.au/data-jobs/data-analyst-jobs?salaryrange=100000-999999&salarytype=annual&page=20\n",
      "finish process article\n",
      "400\n",
      "https://www.seek.com.au/data-jobs/data-analyst-jobs?salaryrange=100000-999999&salarytype=annual&page=21\n",
      "https://www.seek.com.au/data-jobs/data-analyst-jobs?salaryrange=100000-999999&salarytype=annual&page=22\n",
      "https://www.seek.com.au/data-jobs/data-analyst-jobs?salaryrange=100000-999999&salarytype=annual&page=23\n",
      "https://www.seek.com.au/data-jobs/data-analyst-jobs?salaryrange=100000-999999&salarytype=annual&page=24\n",
      "https://www.seek.com.au/data-jobs/data-analyst-jobs?salaryrange=100000-999999&salarytype=annual&page=25\n",
      "https://www.seek.com.au/data-jobs/data-analyst-jobs?salaryrange=100000-999999&salarytype=annual&page=26\n",
      "https://www.seek.com.au/data-jobs/data-analyst-jobs?salaryrange=100000-999999&salarytype=annual&page=27\n",
      "https://www.seek.com.au/data-jobs/data-analyst-jobs?salaryrange=100000-999999&salarytype=annual&page=28\n",
      "https://www.seek.com.au/data-jobs/data-analyst-jobs?salaryrange=100000-999999&salarytype=annual&page=29\n",
      "https://www.seek.com.au/data-jobs/data-analyst-jobs?salaryrange=100000-999999&salarytype=annual&page=30\n",
      "finish process article\n",
      "435\n"
     ]
    },
    {
     "data": {
      "text/plain": [
       "(435, 7)"
      ]
     },
     "execution_count": 13,
     "metadata": {},
     "output_type": "execute_result"
    }
   ],
   "source": [
    "df = get_jobs_data(dataAnalystHigh)\n",
    "df.to_csv('./datasets/dataAnalystHigh.csv')\n",
    "df.shape"
   ]
  },
  {
   "cell_type": "markdown",
   "metadata": {},
   "source": [
    "### Getting data engineer jobs posting"
   ]
  },
  {
   "cell_type": "code",
   "execution_count": 14,
   "metadata": {},
   "outputs": [
    {
     "name": "stdout",
     "output_type": "stream",
     "text": [
      "506 26\n",
      "https://www.seek.com.au/data-jobs/data-engineer-jobs?salaryrange=0-100000&salarytype=annual&page=1\n",
      "https://www.seek.com.au/data-jobs/data-engineer-jobs?salaryrange=0-100000&salarytype=annual&page=2\n",
      "https://www.seek.com.au/data-jobs/data-engineer-jobs?salaryrange=0-100000&salarytype=annual&page=3\n",
      "https://www.seek.com.au/data-jobs/data-engineer-jobs?salaryrange=0-100000&salarytype=annual&page=4\n",
      "https://www.seek.com.au/data-jobs/data-engineer-jobs?salaryrange=0-100000&salarytype=annual&page=5\n",
      "https://www.seek.com.au/data-jobs/data-engineer-jobs?salaryrange=0-100000&salarytype=annual&page=6\n",
      "https://www.seek.com.au/data-jobs/data-engineer-jobs?salaryrange=0-100000&salarytype=annual&page=7\n",
      "https://www.seek.com.au/data-jobs/data-engineer-jobs?salaryrange=0-100000&salarytype=annual&page=8\n",
      "https://www.seek.com.au/data-jobs/data-engineer-jobs?salaryrange=0-100000&salarytype=annual&page=9\n",
      "https://www.seek.com.au/data-jobs/data-engineer-jobs?salaryrange=0-100000&salarytype=annual&page=10\n",
      "finish process article\n",
      "https://www.seek.com.au/data-jobs/data-engineer-jobs?salaryrange=0-100000&salarytype=annual&page=11\n",
      "https://www.seek.com.au/data-jobs/data-engineer-jobs?salaryrange=0-100000&salarytype=annual&page=12\n",
      "https://www.seek.com.au/data-jobs/data-engineer-jobs?salaryrange=0-100000&salarytype=annual&page=13\n",
      "https://www.seek.com.au/data-jobs/data-engineer-jobs?salaryrange=0-100000&salarytype=annual&page=14\n",
      "https://www.seek.com.au/data-jobs/data-engineer-jobs?salaryrange=0-100000&salarytype=annual&page=15\n",
      "https://www.seek.com.au/data-jobs/data-engineer-jobs?salaryrange=0-100000&salarytype=annual&page=16\n",
      "https://www.seek.com.au/data-jobs/data-engineer-jobs?salaryrange=0-100000&salarytype=annual&page=17\n",
      "https://www.seek.com.au/data-jobs/data-engineer-jobs?salaryrange=0-100000&salarytype=annual&page=18\n",
      "https://www.seek.com.au/data-jobs/data-engineer-jobs?salaryrange=0-100000&salarytype=annual&page=19\n",
      "https://www.seek.com.au/data-jobs/data-engineer-jobs?salaryrange=0-100000&salarytype=annual&page=20\n",
      "finish process article\n",
      "400\n",
      "https://www.seek.com.au/data-jobs/data-engineer-jobs?salaryrange=0-100000&salarytype=annual&page=21\n",
      "https://www.seek.com.au/data-jobs/data-engineer-jobs?salaryrange=0-100000&salarytype=annual&page=22\n",
      "https://www.seek.com.au/data-jobs/data-engineer-jobs?salaryrange=0-100000&salarytype=annual&page=23\n",
      "https://www.seek.com.au/data-jobs/data-engineer-jobs?salaryrange=0-100000&salarytype=annual&page=24\n",
      "https://www.seek.com.au/data-jobs/data-engineer-jobs?salaryrange=0-100000&salarytype=annual&page=25\n",
      "https://www.seek.com.au/data-jobs/data-engineer-jobs?salaryrange=0-100000&salarytype=annual&page=26\n",
      "https://www.seek.com.au/data-jobs/data-engineer-jobs?salaryrange=0-100000&salarytype=annual&page=27\n",
      "https://www.seek.com.au/data-jobs/data-engineer-jobs?salaryrange=0-100000&salarytype=annual&page=28\n",
      "https://www.seek.com.au/data-jobs/data-engineer-jobs?salaryrange=0-100000&salarytype=annual&page=29\n",
      "https://www.seek.com.au/data-jobs/data-engineer-jobs?salaryrange=0-100000&salarytype=annual&page=30\n",
      "finish process article\n",
      "506\n"
     ]
    },
    {
     "data": {
      "text/plain": [
       "(506, 7)"
      ]
     },
     "execution_count": 14,
     "metadata": {},
     "output_type": "execute_result"
    }
   ],
   "source": [
    "df = get_jobs_data(dataEngineerLow )\n",
    "df.to_csv('./datasets/dataEngineerLow.csv')\n",
    "df.shape"
   ]
  },
  {
   "cell_type": "code",
   "execution_count": 15,
   "metadata": {},
   "outputs": [
    {
     "name": "stdout",
     "output_type": "stream",
     "text": [
      "396 20\n",
      "https://www.seek.com.au/data-jobs/data-analyst-jobs?salaryrange=0-100000&salarytype=annual&page=1\n",
      "https://www.seek.com.au/data-jobs/data-analyst-jobs?salaryrange=0-100000&salarytype=annual&page=2\n",
      "https://www.seek.com.au/data-jobs/data-analyst-jobs?salaryrange=0-100000&salarytype=annual&page=3\n",
      "https://www.seek.com.au/data-jobs/data-analyst-jobs?salaryrange=0-100000&salarytype=annual&page=4\n",
      "https://www.seek.com.au/data-jobs/data-analyst-jobs?salaryrange=0-100000&salarytype=annual&page=5\n",
      "https://www.seek.com.au/data-jobs/data-analyst-jobs?salaryrange=0-100000&salarytype=annual&page=6\n",
      "https://www.seek.com.au/data-jobs/data-analyst-jobs?salaryrange=0-100000&salarytype=annual&page=7\n",
      "https://www.seek.com.au/data-jobs/data-analyst-jobs?salaryrange=0-100000&salarytype=annual&page=8\n",
      "https://www.seek.com.au/data-jobs/data-analyst-jobs?salaryrange=0-100000&salarytype=annual&page=9\n",
      "https://www.seek.com.au/data-jobs/data-analyst-jobs?salaryrange=0-100000&salarytype=annual&page=10\n",
      "finish process article\n",
      "https://www.seek.com.au/data-jobs/data-analyst-jobs?salaryrange=0-100000&salarytype=annual&page=11\n",
      "https://www.seek.com.au/data-jobs/data-analyst-jobs?salaryrange=0-100000&salarytype=annual&page=12\n",
      "https://www.seek.com.au/data-jobs/data-analyst-jobs?salaryrange=0-100000&salarytype=annual&page=13\n",
      "https://www.seek.com.au/data-jobs/data-analyst-jobs?salaryrange=0-100000&salarytype=annual&page=14\n",
      "https://www.seek.com.au/data-jobs/data-analyst-jobs?salaryrange=0-100000&salarytype=annual&page=15\n",
      "https://www.seek.com.au/data-jobs/data-analyst-jobs?salaryrange=0-100000&salarytype=annual&page=16\n",
      "https://www.seek.com.au/data-jobs/data-analyst-jobs?salaryrange=0-100000&salarytype=annual&page=17\n",
      "https://www.seek.com.au/data-jobs/data-analyst-jobs?salaryrange=0-100000&salarytype=annual&page=18\n",
      "https://www.seek.com.au/data-jobs/data-analyst-jobs?salaryrange=0-100000&salarytype=annual&page=19\n",
      "https://www.seek.com.au/data-jobs/data-analyst-jobs?salaryrange=0-100000&salarytype=annual&page=20\n",
      "finish process article\n",
      "396\n"
     ]
    },
    {
     "data": {
      "text/plain": [
       "(396, 7)"
      ]
     },
     "execution_count": 15,
     "metadata": {},
     "output_type": "execute_result"
    }
   ],
   "source": [
    "df = get_jobs_data(dataAnalystLow)\n",
    "df.to_csv('./datasets/dataEngineerHigh.csv')\n",
    "df.shape"
   ]
  },
  {
   "cell_type": "markdown",
   "metadata": {},
   "source": [
    "### Getting data science jobs posting"
   ]
  },
  {
   "cell_type": "code",
   "execution_count": 16,
   "metadata": {},
   "outputs": [
    {
     "name": "stdout",
     "output_type": "stream",
     "text": [
      "393 20\n",
      "https://www.seek.com.au/data-jobs/data-science-jobs?salaryrange=0-100000&salarytype=annual&page=1\n",
      "https://www.seek.com.au/data-jobs/data-science-jobs?salaryrange=0-100000&salarytype=annual&page=2\n",
      "https://www.seek.com.au/data-jobs/data-science-jobs?salaryrange=0-100000&salarytype=annual&page=3\n",
      "https://www.seek.com.au/data-jobs/data-science-jobs?salaryrange=0-100000&salarytype=annual&page=4\n",
      "https://www.seek.com.au/data-jobs/data-science-jobs?salaryrange=0-100000&salarytype=annual&page=5\n",
      "https://www.seek.com.au/data-jobs/data-science-jobs?salaryrange=0-100000&salarytype=annual&page=6\n",
      "https://www.seek.com.au/data-jobs/data-science-jobs?salaryrange=0-100000&salarytype=annual&page=7\n",
      "https://www.seek.com.au/data-jobs/data-science-jobs?salaryrange=0-100000&salarytype=annual&page=8\n",
      "https://www.seek.com.au/data-jobs/data-science-jobs?salaryrange=0-100000&salarytype=annual&page=9\n",
      "https://www.seek.com.au/data-jobs/data-science-jobs?salaryrange=0-100000&salarytype=annual&page=10\n",
      "finish process article\n",
      "https://www.seek.com.au/data-jobs/data-science-jobs?salaryrange=0-100000&salarytype=annual&page=11\n",
      "https://www.seek.com.au/data-jobs/data-science-jobs?salaryrange=0-100000&salarytype=annual&page=12\n",
      "https://www.seek.com.au/data-jobs/data-science-jobs?salaryrange=0-100000&salarytype=annual&page=13\n",
      "https://www.seek.com.au/data-jobs/data-science-jobs?salaryrange=0-100000&salarytype=annual&page=14\n",
      "https://www.seek.com.au/data-jobs/data-science-jobs?salaryrange=0-100000&salarytype=annual&page=15\n",
      "https://www.seek.com.au/data-jobs/data-science-jobs?salaryrange=0-100000&salarytype=annual&page=16\n",
      "https://www.seek.com.au/data-jobs/data-science-jobs?salaryrange=0-100000&salarytype=annual&page=17\n",
      "https://www.seek.com.au/data-jobs/data-science-jobs?salaryrange=0-100000&salarytype=annual&page=18\n",
      "https://www.seek.com.au/data-jobs/data-science-jobs?salaryrange=0-100000&salarytype=annual&page=19\n",
      "https://www.seek.com.au/data-jobs/data-science-jobs?salaryrange=0-100000&salarytype=annual&page=20\n",
      "finish process article\n",
      "393\n"
     ]
    },
    {
     "data": {
      "text/plain": [
       "(393, 7)"
      ]
     },
     "execution_count": 16,
     "metadata": {},
     "output_type": "execute_result"
    }
   ],
   "source": [
    "df = get_jobs_data(dataScienceLow)\n",
    "df.to_csv('./datasets/dataScienceLow.csv')\n",
    "df.shape"
   ]
  },
  {
   "cell_type": "code",
   "execution_count": 17,
   "metadata": {},
   "outputs": [
    {
     "name": "stdout",
     "output_type": "stream",
     "text": [
      "335 17\n",
      "https://www.seek.com.au/data-jobs/data-science-jobs?salaryrange=100000-999999&salarytype=annual&page=1\n",
      "https://www.seek.com.au/data-jobs/data-science-jobs?salaryrange=100000-999999&salarytype=annual&page=2\n",
      "https://www.seek.com.au/data-jobs/data-science-jobs?salaryrange=100000-999999&salarytype=annual&page=3\n",
      "https://www.seek.com.au/data-jobs/data-science-jobs?salaryrange=100000-999999&salarytype=annual&page=4\n",
      "https://www.seek.com.au/data-jobs/data-science-jobs?salaryrange=100000-999999&salarytype=annual&page=5\n",
      "https://www.seek.com.au/data-jobs/data-science-jobs?salaryrange=100000-999999&salarytype=annual&page=6\n",
      "https://www.seek.com.au/data-jobs/data-science-jobs?salaryrange=100000-999999&salarytype=annual&page=7\n",
      "https://www.seek.com.au/data-jobs/data-science-jobs?salaryrange=100000-999999&salarytype=annual&page=8\n",
      "https://www.seek.com.au/data-jobs/data-science-jobs?salaryrange=100000-999999&salarytype=annual&page=9\n",
      "https://www.seek.com.au/data-jobs/data-science-jobs?salaryrange=100000-999999&salarytype=annual&page=10\n",
      "finish process article\n",
      "https://www.seek.com.au/data-jobs/data-science-jobs?salaryrange=100000-999999&salarytype=annual&page=11\n",
      "https://www.seek.com.au/data-jobs/data-science-jobs?salaryrange=100000-999999&salarytype=annual&page=12\n",
      "https://www.seek.com.au/data-jobs/data-science-jobs?salaryrange=100000-999999&salarytype=annual&page=13\n",
      "https://www.seek.com.au/data-jobs/data-science-jobs?salaryrange=100000-999999&salarytype=annual&page=14\n",
      "https://www.seek.com.au/data-jobs/data-science-jobs?salaryrange=100000-999999&salarytype=annual&page=15\n",
      "https://www.seek.com.au/data-jobs/data-science-jobs?salaryrange=100000-999999&salarytype=annual&page=16\n",
      "https://www.seek.com.au/data-jobs/data-science-jobs?salaryrange=100000-999999&salarytype=annual&page=17\n",
      "https://www.seek.com.au/data-jobs/data-science-jobs?salaryrange=100000-999999&salarytype=annual&page=18\n",
      "https://www.seek.com.au/data-jobs/data-science-jobs?salaryrange=100000-999999&salarytype=annual&page=19\n",
      "https://www.seek.com.au/data-jobs/data-science-jobs?salaryrange=100000-999999&salarytype=annual&page=20\n",
      "finish process article\n",
      "355\n"
     ]
    },
    {
     "data": {
      "text/plain": [
       "(355, 7)"
      ]
     },
     "execution_count": 17,
     "metadata": {},
     "output_type": "execute_result"
    }
   ],
   "source": [
    "df = get_jobs_data(dataScienceHigh)\n",
    "df.to_csv('./datasets/dataScienceHigh.csv')\n",
    "df.shape"
   ]
  },
  {
   "cell_type": "markdown",
   "metadata": {},
   "source": [
    "### Getting data scientist jobs posting"
   ]
  },
  {
   "cell_type": "code",
   "execution_count": 18,
   "metadata": {},
   "outputs": [
    {
     "name": "stdout",
     "output_type": "stream",
     "text": [
      "61 4\n",
      "https://www.seek.com.au/data-jobs/data-scientist-jobs?salaryrange=0-100000&salarytype=annual&page=1\n",
      "https://www.seek.com.au/data-jobs/data-scientist-jobs?salaryrange=0-100000&salarytype=annual&page=2\n",
      "https://www.seek.com.au/data-jobs/data-scientist-jobs?salaryrange=0-100000&salarytype=annual&page=3\n",
      "https://www.seek.com.au/data-jobs/data-scientist-jobs?salaryrange=0-100000&salarytype=annual&page=4\n",
      "https://www.seek.com.au/data-jobs/data-scientist-jobs?salaryrange=0-100000&salarytype=annual&page=5\n",
      "https://www.seek.com.au/data-jobs/data-scientist-jobs?salaryrange=0-100000&salarytype=annual&page=6\n",
      "https://www.seek.com.au/data-jobs/data-scientist-jobs?salaryrange=0-100000&salarytype=annual&page=7\n",
      "https://www.seek.com.au/data-jobs/data-scientist-jobs?salaryrange=0-100000&salarytype=annual&page=8\n",
      "https://www.seek.com.au/data-jobs/data-scientist-jobs?salaryrange=0-100000&salarytype=annual&page=9\n",
      "https://www.seek.com.au/data-jobs/data-scientist-jobs?salaryrange=0-100000&salarytype=annual&page=10\n",
      "finish process article\n"
     ]
    },
    {
     "data": {
      "text/plain": [
       "(61, 7)"
      ]
     },
     "execution_count": 18,
     "metadata": {},
     "output_type": "execute_result"
    }
   ],
   "source": [
    "df = get_jobs_data(dataScientistLow)\n",
    "df.to_csv('./datasets/dataScientistLow.csv')\n",
    "df.shape"
   ]
  },
  {
   "cell_type": "code",
   "execution_count": 19,
   "metadata": {},
   "outputs": [
    {
     "name": "stdout",
     "output_type": "stream",
     "text": [
      "73 4\n",
      "https://www.seek.com.au/data-jobs/data-scientist-jobs?salaryrange=100000-999999&salarytype=annual&page=1\n",
      "https://www.seek.com.au/data-jobs/data-scientist-jobs?salaryrange=100000-999999&salarytype=annual&page=2\n",
      "https://www.seek.com.au/data-jobs/data-scientist-jobs?salaryrange=100000-999999&salarytype=annual&page=3\n",
      "https://www.seek.com.au/data-jobs/data-scientist-jobs?salaryrange=100000-999999&salarytype=annual&page=4\n",
      "https://www.seek.com.au/data-jobs/data-scientist-jobs?salaryrange=100000-999999&salarytype=annual&page=5\n",
      "https://www.seek.com.au/data-jobs/data-scientist-jobs?salaryrange=100000-999999&salarytype=annual&page=6\n",
      "https://www.seek.com.au/data-jobs/data-scientist-jobs?salaryrange=100000-999999&salarytype=annual&page=7\n",
      "https://www.seek.com.au/data-jobs/data-scientist-jobs?salaryrange=100000-999999&salarytype=annual&page=8\n",
      "https://www.seek.com.au/data-jobs/data-scientist-jobs?salaryrange=100000-999999&salarytype=annual&page=9\n",
      "https://www.seek.com.au/data-jobs/data-scientist-jobs?salaryrange=100000-999999&salarytype=annual&page=10\n",
      "finish process article\n"
     ]
    },
    {
     "data": {
      "text/plain": [
       "(73, 7)"
      ]
     },
     "execution_count": 19,
     "metadata": {},
     "output_type": "execute_result"
    }
   ],
   "source": [
    "df = get_jobs_data(dataScientistHigh)\n",
    "df.to_csv('./datasets/dataScientistHigh.csv')\n",
    "df.shape"
   ]
  },
  {
   "cell_type": "code",
   "execution_count": null,
   "metadata": {},
   "outputs": [],
   "source": []
  }
 ],
 "metadata": {
  "kernelspec": {
   "display_name": "Python 3",
   "language": "python",
   "name": "python3"
  },
  "language_info": {
   "codemirror_mode": {
    "name": "ipython",
    "version": 3
   },
   "file_extension": ".py",
   "mimetype": "text/x-python",
   "name": "python",
   "nbconvert_exporter": "python",
   "pygments_lexer": "ipython3",
   "version": "3.7.0"
  }
 },
 "nbformat": 4,
 "nbformat_minor": 2
}
