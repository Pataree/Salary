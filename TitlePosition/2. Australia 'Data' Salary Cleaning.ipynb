{
 "cells": [
  {
   "cell_type": "markdown",
   "metadata": {},
   "source": [
    "# Cleaning Data"
   ]
  },
  {
   "cell_type": "markdown",
   "metadata": {},
   "source": [
    "In this section\n",
    "* grab data from the csv that previously scrape from Seek\n",
    "* clean duplicate data\n",
    "* classify the location to be [ACT, NSW, NT, QLD, SA, TAS, VIC, WA]\n",
    "* create a new column to specify the salary range"
   ]
  },
  {
   "cell_type": "markdown",
   "metadata": {},
   "source": [
    "There are six states in Australia: New South Wales, Queensland, South Australia, Tasmania, Victoria and Western Australia.\n",
    "There are two Territories"
   ]
  },
  {
   "cell_type": "code",
   "execution_count": 1,
   "metadata": {},
   "outputs": [],
   "source": [
    "# import necessary packages\n",
    "import time\n",
    "import datetime as dt\n",
    "import pandas as pd\n",
    "import numpy as np\n",
    "\n",
    "# for plotting\n",
    "import matplotlib.pyplot as plt\n",
    "import matplotlib.dates as mdates\n",
    "from matplotlib import style\n",
    "import seaborn as sns\n",
    "\n",
    "style.use('ggplot')\n",
    "\n",
    "%matplotlib inline"
   ]
  },
  {
   "cell_type": "markdown",
   "metadata": {},
   "source": [
    "## Load data from CSV"
   ]
  },
  {
   "cell_type": "code",
   "execution_count": 2,
   "metadata": {},
   "outputs": [],
   "source": [
    "# import the data from csv"
   ]
  },
  {
   "cell_type": "code",
   "execution_count": 3,
   "metadata": {},
   "outputs": [],
   "source": [
    "dataAnalystLow = pd.read_csv('./datasets/dataAnalystLow.csv')\n",
    "dataAnalystHigh = pd.read_csv('./datasets/dataAnalystHigh.csv')\n",
    "\n",
    "dataEngineerLow = pd.read_csv('./datasets/dataEngineerLow.csv')\n",
    "dataEngineerHigh = pd.read_csv('./datasets/dataEngineerHigh.csv')\n",
    "\n",
    "# to be combined\n",
    "dataScienceLow = pd.read_csv('./datasets/dataScienceLow.csv')\n",
    "dataScienceHigh = pd.read_csv('./datasets/dataScienceHigh.csv')\n",
    "\n",
    "dataScientistLow = pd.read_csv('./datasets/dataScientistLow.csv')\n",
    "dataScientistHigh = pd.read_csv('./datasets/dataScientistHigh.csv')\n",
    "\n",
    "#combine these 2 sets together\n",
    "dataScienLow = pd.concat([dataScienceLow, dataScientistLow])\n",
    "dataScienHigh = pd.concat([dataScienceHigh, dataScientistHigh])"
   ]
  },
  {
   "cell_type": "code",
   "execution_count": 4,
   "metadata": {},
   "outputs": [
    {
     "data": {
      "text/html": [
       "<div>\n",
       "<style scoped>\n",
       "    .dataframe tbody tr th:only-of-type {\n",
       "        vertical-align: middle;\n",
       "    }\n",
       "\n",
       "    .dataframe tbody tr th {\n",
       "        vertical-align: top;\n",
       "    }\n",
       "\n",
       "    .dataframe thead th {\n",
       "        text-align: right;\n",
       "    }\n",
       "</style>\n",
       "<table border=\"1\" class=\"dataframe\">\n",
       "  <thead>\n",
       "    <tr style=\"text-align: right;\">\n",
       "      <th></th>\n",
       "      <th>Unnamed: 0</th>\n",
       "      <th>title</th>\n",
       "      <th>link</th>\n",
       "      <th>salary</th>\n",
       "      <th>location</th>\n",
       "      <th>company</th>\n",
       "      <th>classification</th>\n",
       "      <th>summary</th>\n",
       "    </tr>\n",
       "  </thead>\n",
       "  <tbody>\n",
       "    <tr>\n",
       "      <th>0</th>\n",
       "      <td>0</td>\n",
       "      <td>Data Migration Analyst - Legal Software</td>\n",
       "      <td>/job/37614348?type=standout</td>\n",
       "      <td>Long Term Career Opportunities</td>\n",
       "      <td>Sydney</td>\n",
       "      <td>LEAP Dev</td>\n",
       "      <td>Information &amp; Communication Technology</td>\n",
       "      <td>The Global Transition department is responsibl...</td>\n",
       "    </tr>\n",
       "    <tr>\n",
       "      <th>1</th>\n",
       "      <td>1</td>\n",
       "      <td>Data Analyst</td>\n",
       "      <td>/job/37604518?type=standout</td>\n",
       "      <td>NaN</td>\n",
       "      <td>Brisbane</td>\n",
       "      <td>Paxus</td>\n",
       "      <td>Information &amp; Communication Technology</td>\n",
       "      <td>I'm looking to speak to mid to senior level Da...</td>\n",
       "    </tr>\n",
       "  </tbody>\n",
       "</table>\n",
       "</div>"
      ],
      "text/plain": [
       "   Unnamed: 0                                    title  \\\n",
       "0           0  Data Migration Analyst - Legal Software   \n",
       "1           1                            Data Analyst    \n",
       "\n",
       "                          link                          salary  location  \\\n",
       "0  /job/37614348?type=standout  Long Term Career Opportunities    Sydney   \n",
       "1  /job/37604518?type=standout                             NaN  Brisbane   \n",
       "\n",
       "    company                          classification  \\\n",
       "0  LEAP Dev  Information & Communication Technology   \n",
       "1     Paxus  Information & Communication Technology   \n",
       "\n",
       "                                             summary  \n",
       "0  The Global Transition department is responsibl...  \n",
       "1  I'm looking to speak to mid to senior level Da...  "
      ]
     },
     "execution_count": 4,
     "metadata": {},
     "output_type": "execute_result"
    }
   ],
   "source": [
    "dataAnalystLow.head(2)"
   ]
  },
  {
   "cell_type": "code",
   "execution_count": 5,
   "metadata": {},
   "outputs": [],
   "source": [
    "# all of them have ['Unnamed: 0'] columns, drop them all\n",
    "dataAnalystLow.drop(columns = ['Unnamed: 0'], inplace=True)\n",
    "dataAnalystHigh.drop(columns = ['Unnamed: 0'], inplace=True)\n",
    "\n",
    "\n",
    "dataEngineerLow.drop(columns = ['Unnamed: 0'], inplace=True)\n",
    "dataEngineerHigh.drop(columns = ['Unnamed: 0'], inplace=True)\n",
    "\n",
    "dataScienLow.drop(columns = ['Unnamed: 0'], inplace=True)\n",
    "dataScienHigh.drop(columns = ['Unnamed: 0'], inplace=True)\n"
   ]
  },
  {
   "cell_type": "markdown",
   "metadata": {},
   "source": [
    "## Examine data for data Cleaning "
   ]
  },
  {
   "cell_type": "code",
   "execution_count": 6,
   "metadata": {},
   "outputs": [
    {
     "data": {
      "text/html": [
       "<div>\n",
       "<style scoped>\n",
       "    .dataframe tbody tr th:only-of-type {\n",
       "        vertical-align: middle;\n",
       "    }\n",
       "\n",
       "    .dataframe tbody tr th {\n",
       "        vertical-align: top;\n",
       "    }\n",
       "\n",
       "    .dataframe thead th {\n",
       "        text-align: right;\n",
       "    }\n",
       "</style>\n",
       "<table border=\"1\" class=\"dataframe\">\n",
       "  <thead>\n",
       "    <tr style=\"text-align: right;\">\n",
       "      <th></th>\n",
       "      <th>title</th>\n",
       "      <th>link</th>\n",
       "      <th>salary</th>\n",
       "      <th>location</th>\n",
       "      <th>company</th>\n",
       "      <th>classification</th>\n",
       "      <th>summary</th>\n",
       "    </tr>\n",
       "  </thead>\n",
       "  <tbody>\n",
       "    <tr>\n",
       "      <th>0</th>\n",
       "      <td>Astronomy Data Science Program Coordinator</td>\n",
       "      <td>/job/37613868?type=standout</td>\n",
       "      <td>Salary starting from $111,602 + 17% super</td>\n",
       "      <td>Melbourne</td>\n",
       "      <td>Swinburne University of Technology</td>\n",
       "      <td>Information &amp; Communication Technology</td>\n",
       "      <td>Swinburne is a progressive university that aim...</td>\n",
       "    </tr>\n",
       "    <tr>\n",
       "      <th>1</th>\n",
       "      <td>Astronomy Data Science Program Coordinator</td>\n",
       "      <td>/job/37613869?type=standout</td>\n",
       "      <td>Salary starting from $111,602 + 17% super</td>\n",
       "      <td>Melbourne</td>\n",
       "      <td>Swinburne University of Technology</td>\n",
       "      <td>Education &amp; Training</td>\n",
       "      <td>Swinburne is a progressive university that aim...</td>\n",
       "    </tr>\n",
       "    <tr>\n",
       "      <th>2</th>\n",
       "      <td>Big Data Engineer</td>\n",
       "      <td>/job/37614840?type=standard</td>\n",
       "      <td>$600 - $900 p.d.</td>\n",
       "      <td>Sydney</td>\n",
       "      <td>FIRESOFT Consulting</td>\n",
       "      <td>Information &amp; Communication Technology</td>\n",
       "      <td>Big Data Engineer - Surry Hills, Sydney, Austr...</td>\n",
       "    </tr>\n",
       "    <tr>\n",
       "      <th>3</th>\n",
       "      <td>Data Scientist | Big data environment | Hadoop...</td>\n",
       "      <td>/job/37604293?type=standard</td>\n",
       "      <td>NaN</td>\n",
       "      <td>Sydney</td>\n",
       "      <td>Bluefin Resources Pty Limited</td>\n",
       "      <td>Science &amp; Technology</td>\n",
       "      <td>Our client is a national, reputable and well-k...</td>\n",
       "    </tr>\n",
       "    <tr>\n",
       "      <th>4</th>\n",
       "      <td>Statistical Scientist and Data Specialist</td>\n",
       "      <td>/job/37603471?type=standout</td>\n",
       "      <td>$85953 - $118768 p.a. + 17% super</td>\n",
       "      <td>Melbourne</td>\n",
       "      <td>Deakin University</td>\n",
       "      <td>Education &amp; Training</td>\n",
       "      <td>JOB ID:180801SALARY RANGE: $85,953 to $118,768...</td>\n",
       "    </tr>\n",
       "  </tbody>\n",
       "</table>\n",
       "</div>"
      ],
      "text/plain": [
       "                                               title  \\\n",
       "0         Astronomy Data Science Program Coordinator   \n",
       "1         Astronomy Data Science Program Coordinator   \n",
       "2                                  Big Data Engineer   \n",
       "3  Data Scientist | Big data environment | Hadoop...   \n",
       "4          Statistical Scientist and Data Specialist   \n",
       "\n",
       "                          link                                     salary  \\\n",
       "0  /job/37613868?type=standout  Salary starting from $111,602 + 17% super   \n",
       "1  /job/37613869?type=standout  Salary starting from $111,602 + 17% super   \n",
       "2  /job/37614840?type=standard                           $600 - $900 p.d.   \n",
       "3  /job/37604293?type=standard                                        NaN   \n",
       "4  /job/37603471?type=standout          $85953 - $118768 p.a. + 17% super   \n",
       "\n",
       "    location                             company  \\\n",
       "0  Melbourne  Swinburne University of Technology   \n",
       "1  Melbourne  Swinburne University of Technology   \n",
       "2     Sydney                 FIRESOFT Consulting   \n",
       "3     Sydney       Bluefin Resources Pty Limited   \n",
       "4  Melbourne                   Deakin University   \n",
       "\n",
       "                           classification  \\\n",
       "0  Information & Communication Technology   \n",
       "1                    Education & Training   \n",
       "2  Information & Communication Technology   \n",
       "3                    Science & Technology   \n",
       "4                    Education & Training   \n",
       "\n",
       "                                             summary  \n",
       "0  Swinburne is a progressive university that aim...  \n",
       "1  Swinburne is a progressive university that aim...  \n",
       "2  Big Data Engineer - Surry Hills, Sydney, Austr...  \n",
       "3  Our client is a national, reputable and well-k...  \n",
       "4  JOB ID:180801SALARY RANGE: $85,953 to $118,768...  "
      ]
     },
     "execution_count": 6,
     "metadata": {},
     "output_type": "execute_result"
    }
   ],
   "source": [
    "dataScienHigh.head()"
   ]
  },
  {
   "cell_type": "code",
   "execution_count": 7,
   "metadata": {},
   "outputs": [
    {
     "name": "stdout",
     "output_type": "stream",
     "text": [
      "Data Analyst  Low\n",
      " title               0\n",
      "link                0\n",
      "salary            250\n",
      "location            0\n",
      "company             6\n",
      "classification      0\n",
      "summary             0\n",
      "dtype: int64\n",
      "------------------------------------\n",
      "Data Analyst High\n",
      " title               0\n",
      "link                0\n",
      "salary            264\n",
      "location            0\n",
      "company             1\n",
      "classification      0\n",
      "summary             0\n",
      "dtype: int64\n",
      "------------------------------------\n",
      "Data Engineer Low\n",
      " title               0\n",
      "link                0\n",
      "salary            346\n",
      "location            0\n",
      "company            11\n",
      "classification      0\n",
      "summary             0\n",
      "dtype: int64\n",
      "------------------------------------\n",
      "Data Engineer High\n",
      " title               0\n",
      "link                0\n",
      "salary            250\n",
      "location            0\n",
      "company             6\n",
      "classification      0\n",
      "summary             2\n",
      "dtype: int64\n",
      "------------------------------------\n",
      "Data Science Low\n",
      " title               0\n",
      "link                0\n",
      "salary            277\n",
      "location            0\n",
      "company            10\n",
      "classification      0\n",
      "summary             0\n",
      "dtype: int64\n",
      "------------------------------------\n",
      "Data Science High\n",
      " title               0\n",
      "link                0\n",
      "salary            264\n",
      "location            0\n",
      "company             2\n",
      "classification      0\n",
      "summary             0\n",
      "dtype: int64\n"
     ]
    }
   ],
   "source": [
    "# checking null colunmns - found mainly salary and a few in company.... \n",
    "# salary will be just high or low (1 or 0)\n",
    "# company are not really relevant...no need cleaning\n",
    "print ('Data Analyst  Low\\n', dataAnalystLow.isnull().sum())\n",
    "print ('------------------------------------')\n",
    "print ('Data Analyst High\\n', dataAnalystHigh.isnull().sum())\n",
    "print ('------------------------------------')\n",
    "print ('Data Engineer Low\\n', dataEngineerLow.isnull().sum())\n",
    "print ('------------------------------------')\n",
    "print ('Data Engineer High\\n', dataEngineerHigh.isnull().sum())\n",
    "print ('------------------------------------')\n",
    "print ('Data Science Low\\n', dataScienLow.isnull().sum())\n",
    "print ('------------------------------------')\n",
    "print ('Data Science High\\n', dataScienHigh.isnull().sum())"
   ]
  },
  {
   "cell_type": "code",
   "execution_count": 8,
   "metadata": {},
   "outputs": [],
   "source": [
    "# most of salary are empty replace salry column as high or low\n",
    "dataAnalystLow['salary'] = 0\n",
    "dataEngineerLow['salary'] = 0\n",
    "dataScienLow['salary'] = 0\n",
    "\n",
    "dataAnalystHigh['salary'] = 1\n",
    "dataEngineerHigh['salary'] = 1\n",
    "dataScienHigh['salary'] = 1"
   ]
  },
  {
   "cell_type": "code",
   "execution_count": 9,
   "metadata": {},
   "outputs": [
    {
     "data": {
      "text/html": [
       "<div>\n",
       "<style scoped>\n",
       "    .dataframe tbody tr th:only-of-type {\n",
       "        vertical-align: middle;\n",
       "    }\n",
       "\n",
       "    .dataframe tbody tr th {\n",
       "        vertical-align: top;\n",
       "    }\n",
       "\n",
       "    .dataframe thead th {\n",
       "        text-align: right;\n",
       "    }\n",
       "</style>\n",
       "<table border=\"1\" class=\"dataframe\">\n",
       "  <thead>\n",
       "    <tr style=\"text-align: right;\">\n",
       "      <th></th>\n",
       "      <th>title</th>\n",
       "      <th>link</th>\n",
       "      <th>salary</th>\n",
       "      <th>location</th>\n",
       "      <th>company</th>\n",
       "      <th>classification</th>\n",
       "      <th>summary</th>\n",
       "      <th>title_cat</th>\n",
       "    </tr>\n",
       "  </thead>\n",
       "  <tbody>\n",
       "    <tr>\n",
       "      <th>181</th>\n",
       "      <td>Raw Material Analyst - Pharmaceutical</td>\n",
       "      <td>/job/37540463?type=standard</td>\n",
       "      <td>0</td>\n",
       "      <td>Melbourne</td>\n",
       "      <td>Evolve Scientific Recruitment</td>\n",
       "      <td>Science &amp; Technology</td>\n",
       "      <td>About the company:The company is a well-known ...</td>\n",
       "      <td>Data Scientist</td>\n",
       "    </tr>\n",
       "    <tr>\n",
       "      <th>64</th>\n",
       "      <td>Nurse Program Coordinator - part time</td>\n",
       "      <td>/job/37602609?type=standard</td>\n",
       "      <td>0</td>\n",
       "      <td>Sydney</td>\n",
       "      <td>Ascott Sales Integration P/L</td>\n",
       "      <td>Administration &amp; Office Support</td>\n",
       "      <td>Nurse Program Coordinator - part time Coordina...</td>\n",
       "      <td>Data Scientist</td>\n",
       "    </tr>\n",
       "    <tr>\n",
       "      <th>184</th>\n",
       "      <td>Reward Analyst - 3 month contract - Guaranteed...</td>\n",
       "      <td>/job/37504233?type=standout</td>\n",
       "      <td>0</td>\n",
       "      <td>Sydney</td>\n",
       "      <td>Reward Recruitment</td>\n",
       "      <td>Human Resources &amp; Recruitment</td>\n",
       "      <td>Reporting to a newly appointed Head of Reward,...</td>\n",
       "      <td>Data Analyst</td>\n",
       "    </tr>\n",
       "    <tr>\n",
       "      <th>454</th>\n",
       "      <td>Business Intelligence Lead</td>\n",
       "      <td>/job/37410972?type=standout</td>\n",
       "      <td>0</td>\n",
       "      <td>Sydney</td>\n",
       "      <td>HelloFresh</td>\n",
       "      <td>Consulting &amp; Strategy</td>\n",
       "      <td>About HelloFresh At HelloFresh, we want to cha...</td>\n",
       "      <td>Data Engineer</td>\n",
       "    </tr>\n",
       "    <tr>\n",
       "      <th>235</th>\n",
       "      <td>Production Operator</td>\n",
       "      <td>/job/37490403?type=standard</td>\n",
       "      <td>0</td>\n",
       "      <td>Brisbane</td>\n",
       "      <td>Evolve Scientific Recruitment</td>\n",
       "      <td>Manufacturing, Transport &amp; Logistics</td>\n",
       "      <td>Are you looking for a new challenge? Something...</td>\n",
       "      <td>Data Scientist</td>\n",
       "    </tr>\n",
       "  </tbody>\n",
       "</table>\n",
       "</div>"
      ],
      "text/plain": [
       "                                                 title  \\\n",
       "181              Raw Material Analyst - Pharmaceutical   \n",
       "64               Nurse Program Coordinator - part time   \n",
       "184  Reward Analyst - 3 month contract - Guaranteed...   \n",
       "454                         Business Intelligence Lead   \n",
       "235                                Production Operator   \n",
       "\n",
       "                            link  salary   location  \\\n",
       "181  /job/37540463?type=standard       0  Melbourne   \n",
       "64   /job/37602609?type=standard       0     Sydney   \n",
       "184  /job/37504233?type=standout       0     Sydney   \n",
       "454  /job/37410972?type=standout       0     Sydney   \n",
       "235  /job/37490403?type=standard       0   Brisbane   \n",
       "\n",
       "                           company                        classification  \\\n",
       "181  Evolve Scientific Recruitment                  Science & Technology   \n",
       "64    Ascott Sales Integration P/L       Administration & Office Support   \n",
       "184             Reward Recruitment         Human Resources & Recruitment   \n",
       "454                     HelloFresh                 Consulting & Strategy   \n",
       "235  Evolve Scientific Recruitment  Manufacturing, Transport & Logistics   \n",
       "\n",
       "                                               summary       title_cat  \n",
       "181  About the company:The company is a well-known ...  Data Scientist  \n",
       "64   Nurse Program Coordinator - part time Coordina...  Data Scientist  \n",
       "184  Reporting to a newly appointed Head of Reward,...    Data Analyst  \n",
       "454  About HelloFresh At HelloFresh, we want to cha...   Data Engineer  \n",
       "235  Are you looking for a new challenge? Something...  Data Scientist  "
      ]
     },
     "execution_count": 9,
     "metadata": {},
     "output_type": "execute_result"
    }
   ],
   "source": [
    "# knowing what the job title, let's simplify it further\n",
    "# add new column with that 3 category of those 3 jobs type\n",
    "dataAnalyst = pd.concat([dataAnalystLow, dataAnalystHigh])\n",
    "dataEngineer = pd.concat([dataEngineerLow, dataEngineerHigh])\n",
    "dataScience = pd.concat([dataScienLow, dataScienHigh])\n",
    "\n",
    "dataAnalyst['title_cat'] = 'Data Analyst'\n",
    "dataEngineer['title_cat'] = 'Data Engineer'\n",
    "dataScience['title_cat'] = 'Data Scientist'\n",
    "\n",
    "dataAnalyst['title_cat'].astype('category')\n",
    "dataEngineer['title_cat'].astype('category')\n",
    "dataScience['title_cat'].astype('category')\n",
    "\n",
    "# time to combine all of them into 1 dataframe\n",
    "dataDf = pd.concat([dataAnalyst, dataEngineer, dataScience])\n",
    "\n",
    "dataDf.sample(5)"
   ]
  },
  {
   "cell_type": "code",
   "execution_count": 10,
   "metadata": {},
   "outputs": [],
   "source": [
    "# remove unwanted columns\n",
    "dataDf.drop(columns=['link', 'company'], inplace=True)"
   ]
  },
  {
   "cell_type": "code",
   "execution_count": 11,
   "metadata": {},
   "outputs": [
    {
     "name": "stdout",
     "output_type": "stream",
     "text": [
      "No of unique locations  47\n",
      "No of unique classifications  28\n"
     ]
    }
   ],
   "source": [
    "# No of locations\n",
    "print ('No of unique locations ', dataDf.location.nunique())\n",
    "print ('No of unique classifications ', dataDf.classification.nunique())"
   ]
  },
  {
   "cell_type": "markdown",
   "metadata": {},
   "source": [
    "Data cleaning to do\n",
    "\n",
    "1. Summary - Some advertisement posted multiple times - need to drop duplicates\n",
    "2. Location are not based on States or Territories, need to convert them"
   ]
  },
  {
   "cell_type": "markdown",
   "metadata": {},
   "source": [
    "###  Data Manipulation - Drop Duplicates\n",
    "    1. Drop duplicates based on summary"
   ]
  },
  {
   "cell_type": "code",
   "execution_count": 12,
   "metadata": {},
   "outputs": [
    {
     "data": {
      "text/plain": [
       "(2615, 6)"
      ]
     },
     "execution_count": 12,
     "metadata": {},
     "output_type": "execute_result"
    }
   ],
   "source": [
    "dataDf.shape"
   ]
  },
  {
   "cell_type": "code",
   "execution_count": 13,
   "metadata": {},
   "outputs": [
    {
     "data": {
      "text/plain": [
       "(1219, 6)"
      ]
     },
     "execution_count": 13,
     "metadata": {},
     "output_type": "execute_result"
    }
   ],
   "source": [
    "# shows number of duplicates\n",
    "dataDf[dataDf.duplicated(['summary'], keep='first')].shape"
   ]
  },
  {
   "cell_type": "code",
   "execution_count": 14,
   "metadata": {},
   "outputs": [
    {
     "data": {
      "text/plain": [
       "(1396, 6)"
      ]
     },
     "execution_count": 14,
     "metadata": {},
     "output_type": "execute_result"
    }
   ],
   "source": [
    "# drop all duplicates except first one and show shapes\n",
    "dataDf.drop_duplicates(subset=['summary'], inplace=True)\n",
    "dataDf.shape"
   ]
  },
  {
   "cell_type": "markdown",
   "metadata": {},
   "source": [
    "###  Data Manipulation and Cleaning\n",
    "    2. Modify the locations to make it into the correct States and Territories\n",
    "    \n",
    "    Steps\n",
    "    * 63 different locations\n",
    "    * Create function to convert\n",
    "    * Apply it to dataDF and Save it to new Columns\n",
    "    # Remove all those that are overseas ads"
   ]
  },
  {
   "cell_type": "code",
   "execution_count": 15,
   "metadata": {},
   "outputs": [
    {
     "data": {
      "text/plain": [
       "array(['Sydney', 'Brisbane', 'Melbourne', 'Adelaide', 'Perth',\n",
       "       'South West Coast VIC', 'ACT', 'Gold Coast', 'Cairns & Far North',\n",
       "       'Blue Mountains & Central West', 'Sunshine Coast',\n",
       "       'Newcastle, Maitland & Hunter',\n",
       "       'Wollongong, Illawarra & South Coast',\n",
       "       'Coffs Harbour & North Coast', 'Katherine & Northern Australia',\n",
       "       'Gosford & Central Coast', 'Gladstone & Central QLD', 'Darwin',\n",
       "       'Mackay & Coalfields', 'Port Macquarie & Mid North Coast',\n",
       "       'Toowoomba & Darling Downs', 'Horsham & Grampians', 'Northern QLD',\n",
       "       'Wagga Wagga & Riverina', 'Dubbo & Central NSW',\n",
       "       'Lismore & Far North Coast', 'Bairnsdale & Gippsland',\n",
       "       'Albany & Great Southern', 'Tamworth & North West NSW',\n",
       "       'Launceston & North East', 'Bunbury & South West',\n",
       "       'Port Hedland, Karratha & Pilbara',\n",
       "       'Yorke Peninsula & Clare Valley', 'Hobart',\n",
       "       'Ballarat & Central Highlands', 'Western QLD', 'Mandurah & Peel',\n",
       "       'Whyalla & Eyre Peninsula', 'Mornington Peninsula & Bass Coast',\n",
       "       'West Gippsland & Latrobe Valley', 'Broome & Kimberley',\n",
       "       'Bendigo, Goldfields & Macedon Ranges',\n",
       "       'Fleurieu Peninsula & Kangaroo Island', 'Mildura & Murray',\n",
       "       'Alice Springs & Central Australia', 'Riverland & Murray Mallee',\n",
       "       'Somerset & Lockyer'], dtype=object)"
      ]
     },
     "execution_count": 15,
     "metadata": {},
     "output_type": "execute_result"
    }
   ],
   "source": [
    "# find unique locations, classified them in to the correct States\n",
    "location_list = dataDf.location.unique()\n",
    "location_list"
   ]
  },
  {
   "cell_type": "code",
   "execution_count": 16,
   "metadata": {},
   "outputs": [],
   "source": [
    "ACT = ['ACT']\n",
    "\n",
    "NSW =['NSW', 'Sydney', 'Albury Area', 'Blue Mountains & Central West', 'Coffs Harbour & North Coast', \n",
    "      'Gosford & Central Coast', 'Lismore & Far North Coast', 'Newcastle, Maitland & Hunter',\n",
    "       'Port Macquarie & Mid North Coast', 'Richmond & Hawkesbury', 'Southern Highlands & Tablelands',\n",
    "       'Tumut, Snowy & Monaro', 'Wagga Wagga & Riverina','Wollongong, Illawarra & South Coast']\n",
    "\n",
    "NT = ['NT', 'Darwin', 'Alice Springs & Central Australia']\n",
    "\n",
    "QLD = ['QLD', 'Brisbane', 'Bundaberg & Wide Bay Burnett', 'Cairns & Far North', 'Gold Coast', \n",
    "       'Hervey Bay & Fraser Coast', 'Katherine & Northern Australia', 'Mackay & Coalfields', \n",
    "       'Rockhampton & Capricorn Coast', 'Somerset & Lockyer', 'Sunshine Coast', 'Toowoomba & Darling Downs']\n",
    "\n",
    "SA = ['SA', 'Adelaide', 'Adelaide Hills & Barossa', 'Fleurieu Peninsula & Kangaroo Island',\n",
    "      'Mt Gambier & Limestone Coast', 'Riverland & Murray Mallee', \n",
    "      'Whyalla & Eyre Peninsula', 'Yorke Peninsula & Clare Valley']\n",
    "\n",
    "TAS = ['TAS', 'Hobart', 'Devonport & North West', 'Launceston & North East']\n",
    "\n",
    "VIC = ['VIC', 'Melbourne', 'Bairnsdale & Gippsland', 'Ballarat & Central Highlands',\n",
    "       'Bendigo, Goldfields & Macedon Ranges', 'Horsham & Grampians','Mornington Peninsula & Bass Coast',\n",
    "       'Shepparton & Goulburn Valley', 'West Gippsland & Latrobe Valley', 'Yarra Valley & High Country']\n",
    "\n",
    "WA = ['WA', 'Perth', 'Albany & Great Southern', 'Bairnsdale & Gippsland', 'Bendigo, Goldfields & Macedon Ranges', \n",
    "      'Broome & Kimberley', 'Bunbury & South West', 'Kalgoorlie, Goldfields & Esperance','Geraldton, Gascoyne & Midwest', \n",
    "      'Mandurah & Peel', 'Mildura & Murray', 'Northam & Wheatbelt', 'Port Hedland, Karratha & Pilbara']"
   ]
  },
  {
   "cell_type": "code",
   "execution_count": 17,
   "metadata": {},
   "outputs": [],
   "source": [
    "def get_location_states(location):\n",
    "    \n",
    "    if len(location) <= 3:\n",
    "        #Already in the correct States or Territories\n",
    "        return location\n",
    "    \n",
    "    #check if the data has the states inside, get the last 3 letters and remove space\n",
    "    loc = location[-3:].strip()\n",
    "    \n",
    "    if loc.isupper():\n",
    "        # return the states if all 3 or 2 letters are upper case\n",
    "        return loc\n",
    "    \n",
    "    if location in NSW:\n",
    "        return 'NSW'\n",
    "    \n",
    "    if location in VIC:\n",
    "        return 'VIC'\n",
    "    \n",
    "    if location in QLD:\n",
    "        return 'QLD'\n",
    "    \n",
    "    if location in WA:\n",
    "        return 'WA'\n",
    "    \n",
    "    if location in SA:\n",
    "        return 'SA'\n",
    "    \n",
    "    if location in TAS:\n",
    "        return 'TAS'\n",
    "    \n",
    "    if location in NT:\n",
    "        return 'NT'\n",
    " \n",
    "    print (location)\n",
    "    return 'NA'\n"
   ]
  },
  {
   "cell_type": "code",
   "execution_count": 18,
   "metadata": {},
   "outputs": [
    {
     "name": "stdout",
     "output_type": "stream",
     "text": [
      "['NSW' 'QLD' 'VIC' 'SA' 'WA' 'ACT' 'NT' 'TAS']\n"
     ]
    },
    {
     "data": {
      "text/html": [
       "<div>\n",
       "<style scoped>\n",
       "    .dataframe tbody tr th:only-of-type {\n",
       "        vertical-align: middle;\n",
       "    }\n",
       "\n",
       "    .dataframe tbody tr th {\n",
       "        vertical-align: top;\n",
       "    }\n",
       "\n",
       "    .dataframe thead th {\n",
       "        text-align: right;\n",
       "    }\n",
       "</style>\n",
       "<table border=\"1\" class=\"dataframe\">\n",
       "  <thead>\n",
       "    <tr style=\"text-align: right;\">\n",
       "      <th></th>\n",
       "      <th>title</th>\n",
       "      <th>salary</th>\n",
       "      <th>location</th>\n",
       "      <th>classification</th>\n",
       "      <th>summary</th>\n",
       "      <th>title_cat</th>\n",
       "      <th>state</th>\n",
       "    </tr>\n",
       "  </thead>\n",
       "  <tbody>\n",
       "    <tr>\n",
       "      <th>75</th>\n",
       "      <td>Junior/ Graduate Business Analyst</td>\n",
       "      <td>0</td>\n",
       "      <td>Melbourne</td>\n",
       "      <td>Information &amp; Communication Technology</td>\n",
       "      <td>About Us Make It Mine, is an Australian consum...</td>\n",
       "      <td>Data Analyst</td>\n",
       "      <td>VIC</td>\n",
       "    </tr>\n",
       "  </tbody>\n",
       "</table>\n",
       "</div>"
      ],
      "text/plain": [
       "                                title  salary   location  \\\n",
       "75  Junior/ Graduate Business Analyst       0  Melbourne   \n",
       "\n",
       "                            classification  \\\n",
       "75  Information & Communication Technology   \n",
       "\n",
       "                                              summary     title_cat state  \n",
       "75  About Us Make It Mine, is an Australian consum...  Data Analyst   VIC  "
      ]
     },
     "execution_count": 18,
     "metadata": {},
     "output_type": "execute_result"
    }
   ],
   "source": [
    "dataDf['state'] = dataDf['location'].apply(get_location_states)\n",
    "print(dataDf['state'].unique())\n",
    "dataDf.sample()"
   ]
  },
  {
   "cell_type": "code",
   "execution_count": 19,
   "metadata": {},
   "outputs": [
    {
     "data": {
      "text/plain": [
       "title             0.0\n",
       "salary            0.0\n",
       "location          0.0\n",
       "classification    0.0\n",
       "summary           0.0\n",
       "title_cat         0.0\n",
       "state             0.0\n",
       "dtype: float64"
      ]
     },
     "execution_count": 19,
     "metadata": {},
     "output_type": "execute_result"
    }
   ],
   "source": [
    "# check if found any state that is NA (overseas listing)\n",
    "# none are found\n",
    "dataDf[dataDf['state'] == 'NA'].sum()\n"
   ]
  },
  {
   "cell_type": "code",
   "execution_count": 20,
   "metadata": {},
   "outputs": [],
   "source": [
    "# There are still probably that some companies are duplicates with each other when combined all groups togther\n",
    "# This will be dealt with later"
   ]
  },
  {
   "cell_type": "markdown",
   "metadata": {},
   "source": [
    "### Drop all the columns that no longer in our interest"
   ]
  },
  {
   "cell_type": "code",
   "execution_count": 21,
   "metadata": {},
   "outputs": [
    {
     "data": {
      "text/html": [
       "<div>\n",
       "<style scoped>\n",
       "    .dataframe tbody tr th:only-of-type {\n",
       "        vertical-align: middle;\n",
       "    }\n",
       "\n",
       "    .dataframe tbody tr th {\n",
       "        vertical-align: top;\n",
       "    }\n",
       "\n",
       "    .dataframe thead th {\n",
       "        text-align: right;\n",
       "    }\n",
       "</style>\n",
       "<table border=\"1\" class=\"dataframe\">\n",
       "  <thead>\n",
       "    <tr style=\"text-align: right;\">\n",
       "      <th></th>\n",
       "      <th>title</th>\n",
       "      <th>salary</th>\n",
       "      <th>location</th>\n",
       "      <th>classification</th>\n",
       "      <th>summary</th>\n",
       "      <th>title_cat</th>\n",
       "      <th>state</th>\n",
       "    </tr>\n",
       "  </thead>\n",
       "  <tbody>\n",
       "    <tr>\n",
       "      <th>0</th>\n",
       "      <td>Data Migration Analyst - Legal Software</td>\n",
       "      <td>0</td>\n",
       "      <td>Sydney</td>\n",
       "      <td>Information &amp; Communication Technology</td>\n",
       "      <td>The Global Transition department is responsibl...</td>\n",
       "      <td>Data Analyst</td>\n",
       "      <td>NSW</td>\n",
       "    </tr>\n",
       "    <tr>\n",
       "      <th>1</th>\n",
       "      <td>Data Analyst</td>\n",
       "      <td>0</td>\n",
       "      <td>Brisbane</td>\n",
       "      <td>Information &amp; Communication Technology</td>\n",
       "      <td>I'm looking to speak to mid to senior level Da...</td>\n",
       "      <td>Data Analyst</td>\n",
       "      <td>QLD</td>\n",
       "    </tr>\n",
       "    <tr>\n",
       "      <th>2</th>\n",
       "      <td>SAP Master Data Analyst</td>\n",
       "      <td>0</td>\n",
       "      <td>Sydney</td>\n",
       "      <td>Information &amp; Communication Technology</td>\n",
       "      <td>One of our leading client’s is looking to hire...</td>\n",
       "      <td>Data Analyst</td>\n",
       "      <td>NSW</td>\n",
       "    </tr>\n",
       "    <tr>\n",
       "      <th>3</th>\n",
       "      <td>Data Analyst</td>\n",
       "      <td>0</td>\n",
       "      <td>Sydney</td>\n",
       "      <td>Consulting &amp; Strategy</td>\n",
       "      <td>Energy Action is a leading national provider o...</td>\n",
       "      <td>Data Analyst</td>\n",
       "      <td>NSW</td>\n",
       "    </tr>\n",
       "    <tr>\n",
       "      <th>4</th>\n",
       "      <td>Data Officer, Senior Data Analyst</td>\n",
       "      <td>0</td>\n",
       "      <td>Melbourne</td>\n",
       "      <td>Government &amp; Defence</td>\n",
       "      <td>We are the Australian Institute of Family Stud...</td>\n",
       "      <td>Data Analyst</td>\n",
       "      <td>VIC</td>\n",
       "    </tr>\n",
       "  </tbody>\n",
       "</table>\n",
       "</div>"
      ],
      "text/plain": [
       "                                     title  salary   location  \\\n",
       "0  Data Migration Analyst - Legal Software       0     Sydney   \n",
       "1                            Data Analyst        0   Brisbane   \n",
       "2                  SAP Master Data Analyst       0     Sydney   \n",
       "3                             Data Analyst       0     Sydney   \n",
       "4        Data Officer, Senior Data Analyst       0  Melbourne   \n",
       "\n",
       "                           classification  \\\n",
       "0  Information & Communication Technology   \n",
       "1  Information & Communication Technology   \n",
       "2  Information & Communication Technology   \n",
       "3                   Consulting & Strategy   \n",
       "4                    Government & Defence   \n",
       "\n",
       "                                             summary     title_cat state  \n",
       "0  The Global Transition department is responsibl...  Data Analyst   NSW  \n",
       "1  I'm looking to speak to mid to senior level Da...  Data Analyst   QLD  \n",
       "2  One of our leading client’s is looking to hire...  Data Analyst   NSW  \n",
       "3  Energy Action is a leading national provider o...  Data Analyst   NSW  \n",
       "4  We are the Australian Institute of Family Stud...  Data Analyst   VIC  "
      ]
     },
     "execution_count": 21,
     "metadata": {},
     "output_type": "execute_result"
    }
   ],
   "source": [
    "dataDf.head()"
   ]
  },
  {
   "cell_type": "code",
   "execution_count": 22,
   "metadata": {},
   "outputs": [],
   "source": [
    "dataDf.drop(columns=['location'], inplace=True)"
   ]
  },
  {
   "cell_type": "code",
   "execution_count": 23,
   "metadata": {},
   "outputs": [
    {
     "data": {
      "text/plain": [
       "(1396, 6)"
      ]
     },
     "execution_count": 23,
     "metadata": {},
     "output_type": "execute_result"
    }
   ],
   "source": [
    "dataDf.shape"
   ]
  },
  {
   "cell_type": "code",
   "execution_count": 24,
   "metadata": {},
   "outputs": [],
   "source": [
    "# Extract if there is a Junior or Senior in Job Title\n",
    "# Assign 1 to senior"
   ]
  },
  {
   "cell_type": "code",
   "execution_count": 25,
   "metadata": {},
   "outputs": [],
   "source": [
    "def position_level(job_title):\n",
    "    \n",
    "    ### junior = 0, others = -1, seniors = 1\n",
    "    \n",
    "    job_title = job_title.lower()\n",
    "    \n",
    "    if 'senior' in job_title:\n",
    "        return 1\n",
    "    \n",
    "    if 'manager' in job_title:\n",
    "        return 1\n",
    "    \n",
    "    if 'director' in job_title:\n",
    "        return 1\n",
    "    \n",
    "    \n",
    "    if 'junior' in job_title:\n",
    "        return 0\n",
    "    \n",
    "    if 'graduate' in job_title:\n",
    "        return 0\n",
    "    \n",
    "    return -1"
   ]
  },
  {
   "cell_type": "code",
   "execution_count": 26,
   "metadata": {},
   "outputs": [],
   "source": [
    "dataDf['position_lvl'] = dataDf['title'].map(position_level)"
   ]
  },
  {
   "cell_type": "code",
   "execution_count": 27,
   "metadata": {},
   "outputs": [
    {
     "data": {
      "text/html": [
       "<div>\n",
       "<style scoped>\n",
       "    .dataframe tbody tr th:only-of-type {\n",
       "        vertical-align: middle;\n",
       "    }\n",
       "\n",
       "    .dataframe tbody tr th {\n",
       "        vertical-align: top;\n",
       "    }\n",
       "\n",
       "    .dataframe thead th {\n",
       "        text-align: right;\n",
       "    }\n",
       "</style>\n",
       "<table border=\"1\" class=\"dataframe\">\n",
       "  <thead>\n",
       "    <tr style=\"text-align: right;\">\n",
       "      <th></th>\n",
       "      <th>title</th>\n",
       "      <th>salary</th>\n",
       "      <th>classification</th>\n",
       "      <th>summary</th>\n",
       "      <th>title_cat</th>\n",
       "      <th>state</th>\n",
       "      <th>position_lvl</th>\n",
       "    </tr>\n",
       "  </thead>\n",
       "  <tbody>\n",
       "    <tr>\n",
       "      <th>176</th>\n",
       "      <td>Manager, Client Services</td>\n",
       "      <td>1</td>\n",
       "      <td>Education &amp; Training</td>\n",
       "      <td>About Griffith University At Griffith Universi...</td>\n",
       "      <td>Data Scientist</td>\n",
       "      <td>QLD</td>\n",
       "      <td>1</td>\n",
       "    </tr>\n",
       "    <tr>\n",
       "      <th>163</th>\n",
       "      <td>Technical Architect</td>\n",
       "      <td>1</td>\n",
       "      <td>Information &amp; Communication Technology</td>\n",
       "      <td>Do you believe you can do anything? Then we’re...</td>\n",
       "      <td>Data Scientist</td>\n",
       "      <td>WA</td>\n",
       "      <td>-1</td>\n",
       "    </tr>\n",
       "    <tr>\n",
       "      <th>386</th>\n",
       "      <td>P/T BI BA</td>\n",
       "      <td>0</td>\n",
       "      <td>Information &amp; Communication Technology</td>\n",
       "      <td>Our client is a NSW Government organisation wi...</td>\n",
       "      <td>Data Analyst</td>\n",
       "      <td>NSW</td>\n",
       "      <td>-1</td>\n",
       "    </tr>\n",
       "    <tr>\n",
       "      <th>344</th>\n",
       "      <td>Campaign Analyst | Marketing &amp; Campaign Analyt...</td>\n",
       "      <td>1</td>\n",
       "      <td>Consulting &amp; Strategy</td>\n",
       "      <td>A major Australian Brand is looking for three ...</td>\n",
       "      <td>Data Analyst</td>\n",
       "      <td>NSW</td>\n",
       "      <td>-1</td>\n",
       "    </tr>\n",
       "    <tr>\n",
       "      <th>229</th>\n",
       "      <td>Associate Research Fellow, Thermoplastic Compo...</td>\n",
       "      <td>0</td>\n",
       "      <td>Education &amp; Training</td>\n",
       "      <td>JOB ID: 180781SALARY RANGE: $67,562 to $90,827...</td>\n",
       "      <td>Data Engineer</td>\n",
       "      <td>VIC</td>\n",
       "      <td>-1</td>\n",
       "    </tr>\n",
       "    <tr>\n",
       "      <th>73</th>\n",
       "      <td>Technical Business Analyst | Performance &amp; Dat...</td>\n",
       "      <td>1</td>\n",
       "      <td>Information &amp; Communication Technology</td>\n",
       "      <td>Technical Business Analyst 3-Month Contract P...</td>\n",
       "      <td>Data Analyst</td>\n",
       "      <td>QLD</td>\n",
       "      <td>-1</td>\n",
       "    </tr>\n",
       "    <tr>\n",
       "      <th>36</th>\n",
       "      <td>Data Scientist</td>\n",
       "      <td>1</td>\n",
       "      <td>Science &amp; Technology</td>\n",
       "      <td>About the business and the role My client is ...</td>\n",
       "      <td>Data Scientist</td>\n",
       "      <td>NSW</td>\n",
       "      <td>-1</td>\n",
       "    </tr>\n",
       "    <tr>\n",
       "      <th>228</th>\n",
       "      <td>Trust Accounting and Reporting Analyst</td>\n",
       "      <td>0</td>\n",
       "      <td>Accounting</td>\n",
       "      <td>About ME We’re not like other banks. ME was cr...</td>\n",
       "      <td>Data Analyst</td>\n",
       "      <td>VIC</td>\n",
       "      <td>-1</td>\n",
       "    </tr>\n",
       "    <tr>\n",
       "      <th>117</th>\n",
       "      <td>Clinical Trials Regulatory Specialist</td>\n",
       "      <td>0</td>\n",
       "      <td>Education &amp; Training</td>\n",
       "      <td>Sunshine Coast   Full-time, fixed-term positio...</td>\n",
       "      <td>Data Scientist</td>\n",
       "      <td>QLD</td>\n",
       "      <td>-1</td>\n",
       "    </tr>\n",
       "    <tr>\n",
       "      <th>368</th>\n",
       "      <td>MS BI Analyst Programmer - contract position</td>\n",
       "      <td>1</td>\n",
       "      <td>Information &amp; Communication Technology</td>\n",
       "      <td>Large scale QLD government department looking...</td>\n",
       "      <td>Data Analyst</td>\n",
       "      <td>QLD</td>\n",
       "      <td>-1</td>\n",
       "    </tr>\n",
       "  </tbody>\n",
       "</table>\n",
       "</div>"
      ],
      "text/plain": [
       "                                                 title  salary  \\\n",
       "176                           Manager, Client Services       1   \n",
       "163                                Technical Architect       1   \n",
       "386                                          P/T BI BA       0   \n",
       "344  Campaign Analyst | Marketing & Campaign Analyt...       1   \n",
       "229  Associate Research Fellow, Thermoplastic Compo...       0   \n",
       "73   Technical Business Analyst | Performance & Dat...       1   \n",
       "36                                      Data Scientist       1   \n",
       "228             Trust Accounting and Reporting Analyst       0   \n",
       "117              Clinical Trials Regulatory Specialist       0   \n",
       "368       MS BI Analyst Programmer - contract position       1   \n",
       "\n",
       "                             classification  \\\n",
       "176                    Education & Training   \n",
       "163  Information & Communication Technology   \n",
       "386  Information & Communication Technology   \n",
       "344                   Consulting & Strategy   \n",
       "229                    Education & Training   \n",
       "73   Information & Communication Technology   \n",
       "36                     Science & Technology   \n",
       "228                              Accounting   \n",
       "117                    Education & Training   \n",
       "368  Information & Communication Technology   \n",
       "\n",
       "                                               summary       title_cat state  \\\n",
       "176  About Griffith University At Griffith Universi...  Data Scientist   QLD   \n",
       "163  Do you believe you can do anything? Then we’re...  Data Scientist    WA   \n",
       "386  Our client is a NSW Government organisation wi...    Data Analyst   NSW   \n",
       "344  A major Australian Brand is looking for three ...    Data Analyst   NSW   \n",
       "229  JOB ID: 180781SALARY RANGE: $67,562 to $90,827...   Data Engineer   VIC   \n",
       "73    Technical Business Analyst 3-Month Contract P...    Data Analyst   QLD   \n",
       "36    About the business and the role My client is ...  Data Scientist   NSW   \n",
       "228  About ME We’re not like other banks. ME was cr...    Data Analyst   VIC   \n",
       "117  Sunshine Coast   Full-time, fixed-term positio...  Data Scientist   QLD   \n",
       "368   Large scale QLD government department looking...    Data Analyst   QLD   \n",
       "\n",
       "     position_lvl  \n",
       "176             1  \n",
       "163            -1  \n",
       "386            -1  \n",
       "344            -1  \n",
       "229            -1  \n",
       "73             -1  \n",
       "36             -1  \n",
       "228            -1  \n",
       "117            -1  \n",
       "368            -1  "
      ]
     },
     "execution_count": 27,
     "metadata": {},
     "output_type": "execute_result"
    }
   ],
   "source": [
    "dataDf.sample(10)"
   ]
  },
  {
   "cell_type": "code",
   "execution_count": 28,
   "metadata": {},
   "outputs": [],
   "source": [
    "dataDf.to_csv('./datasets/salary.csv')"
   ]
  }
 ],
 "metadata": {
  "kernelspec": {
   "display_name": "Python 3",
   "language": "python",
   "name": "python3"
  },
  "language_info": {
   "codemirror_mode": {
    "name": "ipython",
    "version": 3
   },
   "file_extension": ".py",
   "mimetype": "text/x-python",
   "name": "python",
   "nbconvert_exporter": "python",
   "pygments_lexer": "ipython3",
   "version": "3.7.0"
  }
 },
 "nbformat": 4,
 "nbformat_minor": 2
}
